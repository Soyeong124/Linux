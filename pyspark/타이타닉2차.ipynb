{
 "cells": [
  {
   "cell_type": "code",
   "execution_count": 9,
   "id": "137d87c7-6650-4b1b-9724-d7a8c9634050",
   "metadata": {},
   "outputs": [],
   "source": [
    "from pyspark.ml.feature import OneHotEncoder,StringIndexer,VectorAssembler, StandardScaler\n",
    "from pyspark.ml import Pipeline\n",
    "from pyspark.ml.classification import LogisticRegression \n",
    "from pyspark.sql.functions import col,stddev_samp"
   ]
  },
  {
   "cell_type": "markdown",
   "id": "87d8980b-b976-4e6f-9175-59e96cc91fa0",
   "metadata": {},
   "source": [
    "# 데이터 수집"
   ]
  },
  {
   "cell_type": "code",
   "execution_count": 1,
   "id": "37b2dff6-3a43-4dda-8626-4fdd7ddc0cb7",
   "metadata": {},
   "outputs": [
    {
     "name": "stderr",
     "output_type": "stream",
     "text": [
      "                                                                                \r"
     ]
    }
   ],
   "source": [
    "df = spark.read.format('csv')\\\n",
    "    .options(header = 'true', inferSchema = 'true')\\\n",
    "    .load('/root/git_code/data/train.csv').cache()"
   ]
  },
  {
   "cell_type": "code",
   "execution_count": 77,
   "id": "99780c7a-a41b-41bd-849a-7e2d70875acc",
   "metadata": {},
   "outputs": [
    {
     "name": "stderr",
     "output_type": "stream",
     "text": [
      "24/03/26 18:19:38 WARN CacheManager: Asked to cache already cached data.\n"
     ]
    }
   ],
   "source": [
    "test_df = spark.read.format('csv')\\\n",
    "    .options(header = 'true', inferSchema = 'true')\\\n",
    "    .load('/root/git_code/data/test.csv').cache()"
   ]
  },
  {
   "cell_type": "code",
   "execution_count": 79,
   "id": "5153a944-316b-4eb9-b975-20fb0655e774",
   "metadata": {},
   "outputs": [
    {
     "name": "stdout",
     "output_type": "stream",
     "text": [
      "+--------+\n",
      "|Survived|\n",
      "+--------+\n",
      "|       1|\n",
      "|       0|\n",
      "+--------+\n",
      "\n",
      "+------+\n",
      "|Pclass|\n",
      "+------+\n",
      "|     1|\n",
      "|     3|\n",
      "|     2|\n",
      "+------+\n",
      "\n"
     ]
    }
   ],
   "source": [
    "df.select(\"Survived\").distinct().show()\n",
    "df.select(\"Pclass\").distinct().show()"
   ]
  },
  {
   "cell_type": "markdown",
   "id": "e1197f8a-9078-4e44-90ae-f647a1d09a75",
   "metadata": {},
   "source": [
    "# 결측지 제거\n",
    "결측치 처리\n",
    "1. 평균: 위험, 튀는 값이 있어 평균이 틀어질 수 있음\n",
    "2. 중위수\n",
    "3. 삭제: 표본이 아주 많고 결측치 비율이 적은 경우 괜찮 -> 지금은 날릴거"
   ]
  },
  {
   "cell_type": "code",
   "execution_count": 2,
   "id": "57e6d394-f1ed-4465-bcf1-b29b11189ebf",
   "metadata": {},
   "outputs": [
    {
     "name": "stderr",
     "output_type": "stream",
     "text": [
      "                                                                                \r"
     ]
    },
    {
     "name": "stdout",
     "output_type": "stream",
     "text": [
      "+-----------+--------+------+----+---+---+-----+-----+------+----+-----+--------+\n",
      "|PassengerId|Survived|Pclass|Name|Sex|Age|SibSp|Parch|Ticket|Fare|Cabin|Embarked|\n",
      "+-----------+--------+------+----+---+---+-----+-----+------+----+-----+--------+\n",
      "|          0|       0|     0|   0|  0|177|    0|    0|     0|   0|  687|       2|\n",
      "+-----------+--------+------+----+---+---+-----+-----+------+----+-----+--------+\n",
      "\n"
     ]
    },
    {
     "data": {
      "text/plain": [
       "DataFrame[Survived: int, count: bigint]"
      ]
     },
     "execution_count": 2,
     "metadata": {},
     "output_type": "execute_result"
    }
   ],
   "source": [
    "from pyspark.sql.functions import isnan, count\n",
    "from pyspark.sql.functions import mean, col, split, regexp_extract, when, lit\n",
    "\n",
    "# when(조건A, 조건A가 True일 시 value).otherwise(조건A가 False일 시 value)\n",
    "df.select([count(when(isnan(c) | col(c).isNull(), c)).alias(c) for c in df.columns])\\\n",
    "  .show()\n",
    "\n",
    "df.groupby('Survived').count()"
   ]
  },
  {
   "cell_type": "code",
   "execution_count": 4,
   "id": "fd33ba15-b38e-4bec-b060-681b4cd03664",
   "metadata": {},
   "outputs": [
    {
     "name": "stdout",
     "output_type": "stream",
     "text": [
      "+------+------+-----------+--------+--------------------+----+-----+-----+----------------+-------+-----+--------+------------------+\n",
      "|   Sex|Pclass|PassengerId|Survived|                Name| Age|SibSp|Parch|          Ticket|   Fare|Cabin|Embarked|         AgeFilled|\n",
      "+------+------+-----------+--------+--------------------+----+-----+-----+----------------+-------+-----+--------+------------------+\n",
      "|  male|     3|          1|       0|Braund, Mr. Owen ...|22.0|    1|    0|       A/5 21171|   7.25| NULL|       S|              22.0|\n",
      "|female|     1|          2|       1|Cumings, Mrs. Joh...|38.0|    1|    0|        PC 17599|71.2833|  C85|       C|              38.0|\n",
      "|female|     3|          3|       1|Heikkinen, Miss. ...|26.0|    0|    0|STON/O2. 3101282|  7.925| NULL|       S|              26.0|\n",
      "|female|     1|          4|       1|Futrelle, Mrs. Ja...|35.0|    1|    0|          113803|   53.1| C123|       S|              35.0|\n",
      "|  male|     3|          5|       0|Allen, Mr. Willia...|35.0|    0|    0|          373450|   8.05| NULL|       S|              35.0|\n",
      "|  male|     3|          6|       0|    Moran, Mr. James|NULL|    0|    0|          330877| 8.4583| NULL|       Q|26.507588932806325|\n",
      "|  male|     1|          7|       0|McCarthy, Mr. Tim...|54.0|    0|    0|           17463|51.8625|  E46|       S|              54.0|\n",
      "|  male|     3|          8|       0|Palsson, Master. ...| 2.0|    3|    1|          349909| 21.075| NULL|       S|               2.0|\n",
      "|female|     3|          9|       1|Johnson, Mrs. Osc...|27.0|    0|    2|          347742|11.1333| NULL|       S|              27.0|\n",
      "|female|     2|         10|       1|Nasser, Mrs. Nich...|14.0|    1|    0|          237736|30.0708| NULL|       C|              14.0|\n",
      "|female|     3|         11|       1|Sandstrom, Miss. ...| 4.0|    1|    1|         PP 9549|   16.7|   G6|       S|               4.0|\n",
      "|female|     1|         12|       1|Bonnell, Miss. El...|58.0|    0|    0|          113783|  26.55| C103|       S|              58.0|\n",
      "|  male|     3|         13|       0|Saundercock, Mr. ...|20.0|    0|    0|       A/5. 2151|   8.05| NULL|       S|              20.0|\n",
      "|  male|     3|         14|       0|Andersson, Mr. An...|39.0|    1|    5|          347082| 31.275| NULL|       S|              39.0|\n",
      "|female|     3|         15|       0|Vestrom, Miss. Hu...|14.0|    0|    0|          350406| 7.8542| NULL|       S|              14.0|\n",
      "|female|     2|         16|       1|Hewlett, Mrs. (Ma...|55.0|    0|    0|          248706|   16.0| NULL|       S|              55.0|\n",
      "|  male|     3|         17|       0|Rice, Master. Eugene| 2.0|    4|    1|          382652| 29.125| NULL|       Q|               2.0|\n",
      "|  male|     2|         18|       1|Williams, Mr. Cha...|NULL|    0|    0|          244373|   13.0| NULL|       S| 30.74070707070707|\n",
      "|female|     3|         19|       0|Vander Planke, Mr...|31.0|    1|    0|          345763|   18.0| NULL|       S|              31.0|\n",
      "|female|     3|         20|       1|Masselmani, Mrs. ...|NULL|    0|    0|            2649|  7.225| NULL|       C|             21.75|\n",
      "+------+------+-----------+--------+--------------------+----+-----+-----+----------------+-------+-----+--------+------------------+\n",
      "only showing top 20 rows\n",
      "\n"
     ]
    }
   ],
   "source": [
    "from pyspark.sql.functions import avg\n",
    "\n",
    "\n",
    "mean_age_by_sex_pclass = df.groupBy(\"Sex\", \"Pclass\").agg(avg(\"Age\").alias(\"MeanAge\"))\n",
    "# 결측치를 해당 그룹의 평균 나이로 채우기\n",
    "filled_df = df.join(mean_age_by_sex_pclass, [\"Sex\", \"Pclass\"], \"left\") \\\n",
    "              .withColumn(\"AgeFilled\", when(col(\"Age\").isNull(), col(\"MeanAge\")).otherwise(col(\"Age\"))) \\\n",
    "              .drop(\"MeanAge\")\n",
    "# 결과 확인\n",
    "filled_df.show()"
   ]
  },
  {
   "cell_type": "code",
   "execution_count": 6,
   "id": "c312e1bd-69f3-4af2-8bec-35a066d47f5c",
   "metadata": {},
   "outputs": [
    {
     "name": "stdout",
     "output_type": "stream",
     "text": [
      "+---+------+-----------+--------+----+---+-----+-----+------+----+-----+--------+---------+\n",
      "|Sex|Pclass|PassengerId|Survived|Name|Age|SibSp|Parch|Ticket|Fare|Cabin|Embarked|AgeFilled|\n",
      "+---+------+-----------+--------+----+---+-----+-----+------+----+-----+--------+---------+\n",
      "|  0|     0|          0|       0|   0|177|    0|    0|     0|   0|  687|       2|        0|\n",
      "+---+------+-----------+--------+----+---+-----+-----+------+----+-----+--------+---------+\n",
      "\n"
     ]
    }
   ],
   "source": [
    "filled_df.select([count(when(isnan(c) | col(c).isNull(), c)).alias(c) for c in filled_df.columns])\\\n",
    "  .show()"
   ]
  },
  {
   "cell_type": "markdown",
   "id": "9abc796b-de7d-457d-9e27-2c2ee7a2f75b",
   "metadata": {},
   "source": [
    "# 분석내용\n",
    "Pclass, 나이, 성별에 따라 생존여부"
   ]
  },
  {
   "cell_type": "markdown",
   "id": "e658d320-6e5e-4a28-ae23-332f3f6d6cae",
   "metadata": {},
   "source": [
    "# 범주형 데이터에 대한 전처리 준비"
   ]
  },
  {
   "cell_type": "code",
   "execution_count": 10,
   "id": "98012e7e-c4a0-4c83-8af6-f96d34048221",
   "metadata": {},
   "outputs": [],
   "source": [
    "params = {\n",
    "    'inputCol' : 'Sex',\n",
    "    'outputCol' : 'SexIdx'\n",
    "}\n",
    "strIdx = StringIndexer(**params)"
   ]
  },
  {
   "cell_type": "code",
   "execution_count": 11,
   "id": "00b522d6-e2cc-4929-b911-295c7ce49e4a",
   "metadata": {},
   "outputs": [],
   "source": [
    "params = {\n",
    "    'inputCol' : 'SexIdx',\n",
    "    'outputCol' : 'SexClassVec'\n",
    "}\n",
    "encode = OneHotEncoder(**params)"
   ]
  },
  {
   "cell_type": "code",
   "execution_count": 12,
   "id": "22a7d55a-aebb-4da8-ad7f-103edf0e0667",
   "metadata": {},
   "outputs": [],
   "source": [
    "#정답\n",
    "params = {\n",
    "    'inputCol' : 'Survived',\n",
    "    'outputCol' : 'label'\n",
    "}\n",
    "label_strIdx = StringIndexer(**params)"
   ]
  },
  {
   "cell_type": "code",
   "execution_count": 13,
   "id": "64eec3b8-ec30-4c1b-8e12-5c65ad4776da",
   "metadata": {},
   "outputs": [
    {
     "data": {
      "text/plain": [
       "[StringIndexer_ccc5fefdbfd4,\n",
       " OneHotEncoder_9ece67685625,\n",
       " StringIndexer_f98d9c01e018]"
      ]
     },
     "execution_count": 13,
     "metadata": {},
     "output_type": "execute_result"
    }
   ],
   "source": [
    "stage = [strIdx, encode, label_strIdx]\n",
    "stage"
   ]
  },
  {
   "cell_type": "markdown",
   "id": "202c4ee2-f439-42c3-9390-c81e74fedb70",
   "metadata": {},
   "source": [
    "# 연속형 데이터에 대한 전처리 준비"
   ]
  },
  {
   "cell_type": "code",
   "execution_count": 14,
   "id": "2b8b7899-d235-4bda-85c3-76bb1eef94a5",
   "metadata": {},
   "outputs": [],
   "source": [
    "numCols = ['AgeFilled','Fare']\n",
    "#scaling\n",
    "for c in numCols:\n",
    "    filled_df = filled_df.withColumn(c+'Scaled', col(c) / filled_df.agg(stddev_samp(c)).first()[0])"
   ]
  },
  {
   "cell_type": "code",
   "execution_count": 15,
   "id": "9792d1f7-2a03-494a-b360-e5db34476e11",
   "metadata": {},
   "outputs": [
    {
     "name": "stdout",
     "output_type": "stream",
     "text": [
      "+------+------+-----------+--------+--------------------+----+-----+-----+---------+-------+-----+--------+---------+------------------+-------------------+\n",
      "|   Sex|Pclass|PassengerId|Survived|                Name| Age|SibSp|Parch|   Ticket|   Fare|Cabin|Embarked|AgeFilled|   AgeFilledScaled|         FareScaled|\n",
      "+------+------+-----------+--------+--------------------+----+-----+-----+---------+-------+-----+--------+---------+------------------+-------------------+\n",
      "|  male|     3|          1|       0|Braund, Mr. Owen ...|22.0|    1|    0|A/5 21171|   7.25| NULL|       S|     22.0|1.6564889525368385|0.14589454188740145|\n",
      "|female|     1|          2|       1|Cumings, Mrs. Joh...|38.0|    1|    0| PC 17599|71.2833|  C85|       C|     38.0|2.8612081907454483| 1.4344612962375451|\n",
      "+------+------+-----------+--------+--------------------+----+-----+-----+---------+-------+-----+--------+---------+------------------+-------------------+\n",
      "only showing top 2 rows\n",
      "\n"
     ]
    }
   ],
   "source": [
    "filled_df.show(2)"
   ]
  },
  {
   "cell_type": "code",
   "execution_count": 16,
   "id": "37c8d195-0b1f-48aa-8819-8eab85a50258",
   "metadata": {},
   "outputs": [],
   "source": [
    "inputs = ['SexClassVec', 'AgeFilledScaled', 'FareScaled']"
   ]
  },
  {
   "cell_type": "code",
   "execution_count": 17,
   "id": "67076373-331f-4a9f-a1b7-44fb330b522d",
   "metadata": {},
   "outputs": [
    {
     "data": {
      "text/plain": [
       "[StringIndexer_ccc5fefdbfd4,\n",
       " OneHotEncoder_9ece67685625,\n",
       " StringIndexer_f98d9c01e018,\n",
       " VectorAssembler_388c698015c2]"
      ]
     },
     "execution_count": 17,
     "metadata": {},
     "output_type": "execute_result"
    }
   ],
   "source": [
    "assembler = VectorAssembler(inputCols=inputs, outputCol='features', handleInvalid = 'keep')\n",
    "stage +=[assembler]\n",
    "stage\n",
    "\n",
    "\n",
    "#첫번째 코드 아래 코드와 동일\n",
    "# params = {\n",
    "#     'inputCols' : ['SexClassVec', 'AgeScaled', 'FareScaled'],\n",
    "#     'outputCol' : 'features'\n",
    "# }\n",
    "# assembler = VectorAssembler(**params)"
   ]
  },
  {
   "cell_type": "markdown",
   "id": "3c3ae494-2033-4d4e-bee9-79e5c925e851",
   "metadata": {},
   "source": [
    "# 학습용, 평가용 데이터 준비 끝"
   ]
  },
  {
   "cell_type": "code",
   "execution_count": 18,
   "id": "ea070f77-ebea-4ba4-a724-1b8f1ed28edc",
   "metadata": {},
   "outputs": [
    {
     "name": "stderr",
     "output_type": "stream",
     "text": [
      "                                                                                \r"
     ]
    }
   ],
   "source": [
    "#pipe line \n",
    "pipeline = Pipeline(stages=stage)\n",
    "piplineModel = pipeline.fit(filled_df)\n",
    "dataset = piplineModel.transform(filled_df)"
   ]
  },
  {
   "cell_type": "code",
   "execution_count": 19,
   "id": "631158ba-1b0f-4f4c-b1ef-dbd41b30c193",
   "metadata": {},
   "outputs": [
    {
     "name": "stdout",
     "output_type": "stream",
     "text": [
      "+------+------+-----------+--------+--------------------+----+-----+-----+----------------+-------+-----+--------+---------+------------------+-------------------+------+-------------+-----+--------------------+\n",
      "|   Sex|Pclass|PassengerId|Survived|                Name| Age|SibSp|Parch|          Ticket|   Fare|Cabin|Embarked|AgeFilled|   AgeFilledScaled|         FareScaled|SexIdx|  SexClassVec|label|            features|\n",
      "+------+------+-----------+--------+--------------------+----+-----+-----+----------------+-------+-----+--------+---------+------------------+-------------------+------+-------------+-----+--------------------+\n",
      "|  male|     3|          1|       0|Braund, Mr. Owen ...|22.0|    1|    0|       A/5 21171|   7.25| NULL|       S|     22.0|1.6564889525368385|0.14589454188740145|   0.0|(1,[0],[1.0])|  0.0|[1.0,1.6564889525...|\n",
      "|female|     1|          2|       1|Cumings, Mrs. Joh...|38.0|    1|    0|        PC 17599|71.2833|  C85|       C|     38.0|2.8612081907454483| 1.4344612962375451|   1.0|    (1,[],[])|  1.0|[0.0,2.8612081907...|\n",
      "|female|     3|          3|       1|Heikkinen, Miss. ...|26.0|    0|    0|STON/O2. 3101282|  7.925| NULL|       S|     26.0|1.9576687620889908|0.15947782682174572|   1.0|    (1,[],[])|  1.0|[0.0,1.9576687620...|\n",
      "|female|     1|          4|       1|Futrelle, Mrs. Ja...|35.0|    1|    0|          113803|   53.1| C123|       S|     35.0|2.6353233335813337| 1.0685517481684161|   1.0|    (1,[],[])|  1.0|[0.0,2.6353233335...|\n",
      "|  male|     3|          5|       0|Allen, Mr. Willia...|35.0|    0|    0|          373450|   8.05| NULL|       S|     35.0|2.6353233335813337| 0.1619932499577354|   0.0|(1,[0],[1.0])|  0.0|[1.0,2.6353233335...|\n",
      "+------+------+-----------+--------+--------------------+----+-----+-----+----------------+-------+-----+--------+---------+------------------+-------------------+------+-------------+-----+--------------------+\n",
      "only showing top 5 rows\n",
      "\n"
     ]
    }
   ],
   "source": [
    "dataset.show(5)"
   ]
  },
  {
   "cell_type": "code",
   "execution_count": 20,
   "id": "7b729d8c-4cc6-4fae-a2f3-36edfc80b557",
   "metadata": {},
   "outputs": [],
   "source": [
    "(train, test) = dataset.randomSplit([0.7,0.3], seed=14)"
   ]
  },
  {
   "cell_type": "markdown",
   "id": "ff40c939-9e11-4e54-bea9-ddd1a6f9be50",
   "metadata": {},
   "source": [
    "# 적절한 모델준비"
   ]
  },
  {
   "cell_type": "code",
   "execution_count": 21,
   "id": "bc9b1df2-7b53-4c05-9d96-e13674bc3a24",
   "metadata": {},
   "outputs": [],
   "source": [
    "lr = LogisticRegression(labelCol='label', featuresCol='features', maxIter=10)"
   ]
  },
  {
   "cell_type": "code",
   "execution_count": 22,
   "id": "529a07cb-349d-46f8-adaa-e0066ea52ea9",
   "metadata": {},
   "outputs": [
    {
     "name": "stderr",
     "output_type": "stream",
     "text": [
      "24/03/26 18:47:56 WARN InstanceBuilder: Failed to load implementation from:dev.ludovic.netlib.blas.JNIBLAS\n"
     ]
    },
    {
     "name": "stdout",
     "output_type": "stream",
     "text": [
      "+------+------+-----------+--------+--------------------+----+-----+-----+--------+--------+-----------+--------+-----------------+------------------+------------------+------+-----------+-----+--------------------+--------------------+--------------------+----------+\n",
      "|   Sex|Pclass|PassengerId|Survived|                Name| Age|SibSp|Parch|  Ticket|    Fare|      Cabin|Embarked|        AgeFilled|   AgeFilledScaled|        FareScaled|SexIdx|SexClassVec|label|            features|       rawPrediction|         probability|prediction|\n",
      "+------+------+-----------+--------+--------------------+----+-----+-----+--------+--------+-----------+--------+-----------------+------------------+------------------+------+-----------+-----+--------------------+--------------------+--------------------+----------+\n",
      "|female|     1|         12|       1|Bonnell, Miss. El...|58.0|    0|    0|  113783|   26.55|       C103|       S|             58.0|  4.36710723850621|0.5342758740842081|   1.0|  (1,[],[])|  1.0|[0.0,4.3671072385...|[-0.5384746615966...|[0.36854248613974...|       1.0|\n",
      "|female|     1|         32|       1|Spencer, Mrs. Wil...|NULL|    1|    0|PC 17569|146.5208|        B78|       C|34.61176470588235|2.6060911755953895|2.9484944817897336|   1.0|  (1,[],[])|  1.0|[0.0,2.6060911755...|[-1.9304465095948...|[0.12670116650150...|       1.0|\n",
      "|female|     1|         53|       1|Harper, Mrs. Henr...|49.0|    1|    0|PC 17572| 76.7292|        D33|       C|             49.0|3.6894526670138674| 1.544051239087835|   1.0|  (1,[],[])|  1.0|[0.0,3.6894526670...|[-1.1065350114995...|[0.24851743371454...|       1.0|\n",
      "|female|     1|         89|       1|Fortune, Miss. Ma...|23.0|    3|    2|   19950|   263.0|C23 C25 C27|       S|             23.0|1.7317839049248764| 5.292450278122287|   1.0|  (1,[],[])|  1.0|[0.0,1.7317839049...|[-3.0812610809116...|[0.04388686896993...|       1.0|\n",
      "|female|     1|        137|       1|Newsom, Miss. Hel...|19.0|    0|    2|   11752| 26.2833|        D47|       S|             19.0|1.4306040953727241|0.5289089672812605|   1.0|  (1,[],[])|  1.0|[0.0,1.4306040953...|[-1.2415595276977...|[0.22416464402648...|       1.0|\n",
      "+------+------+-----------+--------+--------------------+----+-----+-----+--------+--------+-----------+--------+-----------------+------------------+------------------+------+-----------+-----+--------------------+--------------------+--------------------+----------+\n",
      "only showing top 5 rows\n",
      "\n"
     ]
    }
   ],
   "source": [
    "lrModel = lr.fit(train) #훈련\n",
    "predictions = lrModel.transform(test) #예측\n",
    "predictions.show(5)"
   ]
  },
  {
   "cell_type": "code",
   "execution_count": 23,
   "id": "325319e0-5401-4de8-aa62-36930400988c",
   "metadata": {},
   "outputs": [
    {
     "name": "stdout",
     "output_type": "stream",
     "text": [
      "+--------+-----+----------+\n",
      "|Survived|label|prediction|\n",
      "+--------+-----+----------+\n",
      "|       1|  1.0|       1.0|\n",
      "|       1|  1.0|       1.0|\n",
      "|       1|  1.0|       1.0|\n",
      "|       1|  1.0|       1.0|\n",
      "|       1|  1.0|       1.0|\n",
      "|       1|  1.0|       1.0|\n",
      "|       1|  1.0|       1.0|\n",
      "|       1|  1.0|       1.0|\n",
      "|       1|  1.0|       1.0|\n",
      "|       1|  1.0|       1.0|\n",
      "+--------+-----+----------+\n",
      "only showing top 10 rows\n",
      "\n"
     ]
    }
   ],
   "source": [
    "predictions.select('Survived','label','prediction').show(10)"
   ]
  },
  {
   "cell_type": "markdown",
   "id": "4d3af890-4eeb-4a91-8eba-98b18284f2d2",
   "metadata": {},
   "source": [
    "# 평가"
   ]
  },
  {
   "cell_type": "code",
   "execution_count": 24,
   "id": "4b602ef3-d32a-4eae-b495-95c694456720",
   "metadata": {},
   "outputs": [
    {
     "name": "stderr",
     "output_type": "stream",
     "text": [
      "                                                                                \r"
     ]
    },
    {
     "data": {
      "text/plain": [
       "0.8173761513567332"
      ]
     },
     "execution_count": 24,
     "metadata": {},
     "output_type": "execute_result"
    }
   ],
   "source": [
    "from pyspark.ml.evaluation import BinaryClassificationEvaluator\n",
    "evaluator = BinaryClassificationEvaluator(rawPredictionCol='rawPrediction')\n",
    "evaluator.evaluate(predictions)"
   ]
  },
  {
   "cell_type": "code",
   "execution_count": 25,
   "id": "efe377f5-510d-41a1-b337-1dbbd7596b41",
   "metadata": {},
   "outputs": [
    {
     "name": "stdout",
     "output_type": "stream",
     "text": [
      "테스트 표본: 298 \n",
      "틀린 갯수:  59\n"
     ]
    }
   ],
   "source": [
    "predictions.createOrReplaceTempView('predic')\n",
    "print('테스트 표본:',predictions.count(), \"\\n\"\n",
    "'틀린 갯수: ', spark.sql(\"select * from predic where label != prediction\").count())"
   ]
  },
  {
   "cell_type": "code",
   "execution_count": null,
   "id": "b9ac5285-9020-4224-92d3-25171d153b0f",
   "metadata": {},
   "outputs": [],
   "source": []
  }
 ],
 "metadata": {
  "kernelspec": {
   "display_name": "Python 3 (ipykernel)",
   "language": "python",
   "name": "python3"
  },
  "language_info": {
   "codemirror_mode": {
    "name": "ipython",
    "version": 3
   },
   "file_extension": ".py",
   "mimetype": "text/x-python",
   "name": "python",
   "nbconvert_exporter": "python",
   "pygments_lexer": "ipython3",
   "version": "3.9.10"
  }
 },
 "nbformat": 4,
 "nbformat_minor": 5
}
