{
 "cells": [
  {
   "cell_type": "code",
   "execution_count": 4,
   "id": "809151ce-b824-4792-a942-af314a31c450",
   "metadata": {},
   "outputs": [
    {
     "name": "stdout",
     "output_type": "stream",
     "text": [
      "Archive:  /root/git_code/data/titanic.zip\n",
      "  inflating: /root/git_code/data/gender_submission.csv  \n",
      "  inflating: /root/git_code/data/test.csv  \n",
      "  inflating: /root/git_code/data/train.csv  \n"
     ]
    }
   ],
   "source": [
    "!unzip '/root/git_code/data/titanic.zip' -d '/root/git_code/data'"
   ]
  },
  {
   "cell_type": "code",
   "execution_count": 26,
   "id": "137d87c7-6650-4b1b-9724-d7a8c9634050",
   "metadata": {},
   "outputs": [],
   "source": [
    "from pyspark.ml.feature import OneHotEncoder,StringIndexer,VectorAssembler, StandardScaler\n",
    "from pyspark.ml import Pipeline\n",
    "from pyspark.ml.classification import LogisticRegression \n",
    "from pyspark.sql.functions import col,stddev_samp"
   ]
  },
  {
   "cell_type": "markdown",
   "id": "87d8980b-b976-4e6f-9175-59e96cc91fa0",
   "metadata": {},
   "source": [
    "# 데이터 수집"
   ]
  },
  {
   "cell_type": "code",
   "execution_count": 76,
   "id": "37b2dff6-3a43-4dda-8626-4fdd7ddc0cb7",
   "metadata": {},
   "outputs": [
    {
     "name": "stderr",
     "output_type": "stream",
     "text": [
      "24/03/26 18:19:37 WARN CacheManager: Asked to cache already cached data.\n"
     ]
    }
   ],
   "source": [
    "df = spark.read.format('csv')\\\n",
    "    .options(header = 'true', inferSchema = 'true')\\\n",
    "    .load('/root/git_code/data/train.csv').cache()"
   ]
  },
  {
   "cell_type": "code",
   "execution_count": 77,
   "id": "99780c7a-a41b-41bd-849a-7e2d70875acc",
   "metadata": {},
   "outputs": [
    {
     "name": "stderr",
     "output_type": "stream",
     "text": [
      "24/03/26 18:19:38 WARN CacheManager: Asked to cache already cached data.\n"
     ]
    }
   ],
   "source": [
    "test_df = spark.read.format('csv')\\\n",
    "    .options(header = 'true', inferSchema = 'true')\\\n",
    "    .load('/root/git_code/data/test.csv').cache()"
   ]
  },
  {
   "cell_type": "code",
   "execution_count": 78,
   "id": "41745710-fbc1-49b4-b2ca-bdd5f34e7ff5",
   "metadata": {},
   "outputs": [
    {
     "name": "stdout",
     "output_type": "stream",
     "text": [
      "+-----------+--------+------+--------------------+------+----+-----+-----+---------+-------+-----+--------+\n",
      "|PassengerId|Survived|Pclass|                Name|   Sex| Age|SibSp|Parch|   Ticket|   Fare|Cabin|Embarked|\n",
      "+-----------+--------+------+--------------------+------+----+-----+-----+---------+-------+-----+--------+\n",
      "|          1|       0|     3|Braund, Mr. Owen ...|  male|22.0|    1|    0|A/5 21171|   7.25| NULL|       S|\n",
      "|          2|       1|     1|Cumings, Mrs. Joh...|female|38.0|    1|    0| PC 17599|71.2833|  C85|       C|\n",
      "+-----------+--------+------+--------------------+------+----+-----+-----+---------+-------+-----+--------+\n",
      "only showing top 2 rows\n",
      "\n"
     ]
    }
   ],
   "source": [
    "df.show(2)"
   ]
  },
  {
   "cell_type": "code",
   "execution_count": 79,
   "id": "5153a944-316b-4eb9-b975-20fb0655e774",
   "metadata": {},
   "outputs": [
    {
     "name": "stdout",
     "output_type": "stream",
     "text": [
      "+--------+\n",
      "|Survived|\n",
      "+--------+\n",
      "|       1|\n",
      "|       0|\n",
      "+--------+\n",
      "\n",
      "+------+\n",
      "|Pclass|\n",
      "+------+\n",
      "|     1|\n",
      "|     3|\n",
      "|     2|\n",
      "+------+\n",
      "\n"
     ]
    }
   ],
   "source": [
    "df.select(\"Survived\").distinct().show()\n",
    "df.select(\"Pclass\").distinct().show()"
   ]
  },
  {
   "cell_type": "markdown",
   "id": "e1197f8a-9078-4e44-90ae-f647a1d09a75",
   "metadata": {},
   "source": [
    "# 결측지 제거\n",
    "결측치 처리\n",
    "1. 평균: 위험, 튀는 값이 있어 평균이 틀어질 수 있음\n",
    "2. 중위수\n",
    "3. 삭제: 표본이 아주 많고 결측치 비율이 적은 경우 괜찮 -> 지금은 날릴거"
   ]
  },
  {
   "cell_type": "code",
   "execution_count": 80,
   "id": "57e6d394-f1ed-4465-bcf1-b29b11189ebf",
   "metadata": {},
   "outputs": [
    {
     "name": "stdout",
     "output_type": "stream",
     "text": [
      "+-----------+--------+------+----+---+---+-----+-----+------+----+-----+--------+\n",
      "|PassengerId|Survived|Pclass|Name|Sex|Age|SibSp|Parch|Ticket|Fare|Cabin|Embarked|\n",
      "+-----------+--------+------+----+---+---+-----+-----+------+----+-----+--------+\n",
      "|          0|       0|     0|   0|  0|177|    0|    0|     0|   0|  687|       2|\n",
      "+-----------+--------+------+----+---+---+-----+-----+------+----+-----+--------+\n",
      "\n"
     ]
    },
    {
     "data": {
      "text/plain": [
       "DataFrame[Survived: int, count: bigint]"
      ]
     },
     "execution_count": 80,
     "metadata": {},
     "output_type": "execute_result"
    }
   ],
   "source": [
    "from pyspark.sql.functions import isnan, count\n",
    "from pyspark.sql.functions import mean, col, split, regexp_extract, when, lit\n",
    "\n",
    "# when(조건A, 조건A가 True일 시 value).otherwise(조건A가 False일 시 value)\n",
    "df.select([count(when(isnan(c) | col(c).isNull(), c)).alias(c) for c in df.columns])\\\n",
    "  .show()\n",
    "\n",
    "df.groupby('Survived').count()"
   ]
  },
  {
   "cell_type": "code",
   "execution_count": 81,
   "id": "ea2b3b1f-7375-45d7-a4f0-b1a2db0f99fd",
   "metadata": {},
   "outputs": [],
   "source": [
    "# dropna(subset=['Age']) -> 결측치가 너무 많음 우선 그냥 날리기\n",
    "df = df.dropna(subset=['Age'])"
   ]
  },
  {
   "cell_type": "code",
   "execution_count": 82,
   "id": "cd08de81-8c1b-4d1b-aa15-64867cb5e91e",
   "metadata": {},
   "outputs": [
    {
     "data": {
      "text/plain": [
       "714"
      ]
     },
     "execution_count": 82,
     "metadata": {},
     "output_type": "execute_result"
    }
   ],
   "source": [
    "df.count()"
   ]
  },
  {
   "cell_type": "code",
   "execution_count": 83,
   "id": "c312e1bd-69f3-4af2-8bec-35a066d47f5c",
   "metadata": {},
   "outputs": [
    {
     "name": "stdout",
     "output_type": "stream",
     "text": [
      "+-----------+--------+------+----+---+---+-----+-----+------+----+-----+--------+\n",
      "|PassengerId|Survived|Pclass|Name|Sex|Age|SibSp|Parch|Ticket|Fare|Cabin|Embarked|\n",
      "+-----------+--------+------+----+---+---+-----+-----+------+----+-----+--------+\n",
      "|          0|       0|     0|   0|  0|  0|    0|    0|     0|   0|  529|       2|\n",
      "+-----------+--------+------+----+---+---+-----+-----+------+----+-----+--------+\n",
      "\n"
     ]
    }
   ],
   "source": [
    "df.select([count(when(isnan(c) | col(c).isNull(), c)).alias(c) for c in df.columns])\\\n",
    "  .show()"
   ]
  },
  {
   "cell_type": "markdown",
   "id": "9abc796b-de7d-457d-9e27-2c2ee7a2f75b",
   "metadata": {},
   "source": [
    "# 분석내용\n",
    "Pclass, 나이, 성별에 따라 생존여부"
   ]
  },
  {
   "cell_type": "markdown",
   "id": "e658d320-6e5e-4a28-ae23-332f3f6d6cae",
   "metadata": {},
   "source": [
    "# 범주형 데이터에 대한 전처리 준비"
   ]
  },
  {
   "cell_type": "code",
   "execution_count": 84,
   "id": "98012e7e-c4a0-4c83-8af6-f96d34048221",
   "metadata": {},
   "outputs": [],
   "source": [
    "params = {\n",
    "    'inputCol' : 'Sex',\n",
    "    'outputCol' : 'SexIdx'\n",
    "}\n",
    "strIdx = StringIndexer(**params)"
   ]
  },
  {
   "cell_type": "code",
   "execution_count": 85,
   "id": "00b522d6-e2cc-4929-b911-295c7ce49e4a",
   "metadata": {},
   "outputs": [],
   "source": [
    "params = {\n",
    "    'inputCol' : 'SexIdx',\n",
    "    'outputCol' : 'SexClassVec'\n",
    "}\n",
    "encode = OneHotEncoder(**params)"
   ]
  },
  {
   "cell_type": "code",
   "execution_count": 86,
   "id": "22a7d55a-aebb-4da8-ad7f-103edf0e0667",
   "metadata": {},
   "outputs": [],
   "source": [
    "#정답\n",
    "params = {\n",
    "    'inputCol' : 'Survived',\n",
    "    'outputCol' : 'label'\n",
    "}\n",
    "label_strIdx = StringIndexer(**params)"
   ]
  },
  {
   "cell_type": "code",
   "execution_count": 87,
   "id": "64eec3b8-ec30-4c1b-8e12-5c65ad4776da",
   "metadata": {},
   "outputs": [
    {
     "data": {
      "text/plain": [
       "[StringIndexer_11c34870700d,\n",
       " OneHotEncoder_f06267523b0c,\n",
       " StringIndexer_817ef1ed4175]"
      ]
     },
     "execution_count": 87,
     "metadata": {},
     "output_type": "execute_result"
    }
   ],
   "source": [
    "stage = [strIdx, encode, label_strIdx]\n",
    "stage"
   ]
  },
  {
   "cell_type": "markdown",
   "id": "202c4ee2-f439-42c3-9390-c81e74fedb70",
   "metadata": {},
   "source": [
    "# 연속형 데이터에 대한 전처리 준비"
   ]
  },
  {
   "cell_type": "code",
   "execution_count": 88,
   "id": "2b8b7899-d235-4bda-85c3-76bb1eef94a5",
   "metadata": {},
   "outputs": [],
   "source": [
    "numCols = ['Age','Fare']\n",
    "#scaling\n",
    "for c in numCols:\n",
    "    df = df.withColumn(c+'Scaled', col(c) / df.agg(stddev_samp(c)).first()[0])"
   ]
  },
  {
   "cell_type": "code",
   "execution_count": 89,
   "id": "9792d1f7-2a03-494a-b360-e5db34476e11",
   "metadata": {},
   "outputs": [
    {
     "name": "stdout",
     "output_type": "stream",
     "text": [
      "+-----------+--------+------+--------------------+------+----+-----+-----+---------+-------+-----+--------+------------------+------------------+\n",
      "|PassengerId|Survived|Pclass|                Name|   Sex| Age|SibSp|Parch|   Ticket|   Fare|Cabin|Embarked|         AgeScaled|        FareScaled|\n",
      "+-----------+--------+------+--------------------+------+----+-----+-----+---------+-------+-----+--------+------------------+------------------+\n",
      "|          1|       0|     3|Braund, Mr. Owen ...|  male|22.0|    1|    0|A/5 21171|   7.25| NULL|       S|1.5144738264626911|0.1370020155009282|\n",
      "|          2|       1|     1|Cumings, Mrs. Joh...|female|38.0|    1|    0| PC 17599|71.2833|  C85|       C|2.6159093366173756|1.3470283822837676|\n",
      "+-----------+--------+------+--------------------+------+----+-----+-----+---------+-------+-----+--------+------------------+------------------+\n",
      "only showing top 2 rows\n",
      "\n"
     ]
    }
   ],
   "source": [
    "df.show(2)"
   ]
  },
  {
   "cell_type": "code",
   "execution_count": 90,
   "id": "37c8d195-0b1f-48aa-8819-8eab85a50258",
   "metadata": {},
   "outputs": [],
   "source": [
    "inputs = ['SexClassVec', 'AgeScaled', 'FareScaled']"
   ]
  },
  {
   "cell_type": "code",
   "execution_count": 91,
   "id": "67076373-331f-4a9f-a1b7-44fb330b522d",
   "metadata": {},
   "outputs": [
    {
     "data": {
      "text/plain": [
       "[StringIndexer_11c34870700d,\n",
       " OneHotEncoder_f06267523b0c,\n",
       " StringIndexer_817ef1ed4175,\n",
       " VectorAssembler_521912917018]"
      ]
     },
     "execution_count": 91,
     "metadata": {},
     "output_type": "execute_result"
    }
   ],
   "source": [
    "assembler = VectorAssembler(inputCols=inputs, outputCol='features', handleInvalid = 'keep')\n",
    "stage +=[assembler]\n",
    "stage\n",
    "\n",
    "\n",
    "#첫번째 코드 아래 코드와 동일\n",
    "# params = {\n",
    "#     'inputCols' : ['SexClassVec', 'AgeScaled', 'FareScaled'],\n",
    "#     'outputCol' : 'features'\n",
    "# }\n",
    "# assembler = VectorAssembler(**params)"
   ]
  },
  {
   "cell_type": "markdown",
   "id": "3c3ae494-2033-4d4e-bee9-79e5c925e851",
   "metadata": {},
   "source": [
    "# 학습용, 평가용 데이터 준비 끝"
   ]
  },
  {
   "cell_type": "code",
   "execution_count": 92,
   "id": "ea070f77-ebea-4ba4-a724-1b8f1ed28edc",
   "metadata": {},
   "outputs": [],
   "source": [
    "#pipe line \n",
    "pipeline = Pipeline(stages=stage)\n",
    "piplineModel = pipeline.fit(df)\n",
    "dataset = piplineModel.transform(df)"
   ]
  },
  {
   "cell_type": "code",
   "execution_count": 93,
   "id": "631158ba-1b0f-4f4c-b1ef-dbd41b30c193",
   "metadata": {},
   "outputs": [
    {
     "name": "stdout",
     "output_type": "stream",
     "text": [
      "+-----------+--------+------+--------------------+------+----+-----+-----+----------------+-------+-----+--------+------------------+-------------------+------+-------------+-----+--------------------+\n",
      "|PassengerId|Survived|Pclass|                Name|   Sex| Age|SibSp|Parch|          Ticket|   Fare|Cabin|Embarked|         AgeScaled|         FareScaled|SexIdx|  SexClassVec|label|            features|\n",
      "+-----------+--------+------+--------------------+------+----+-----+-----+----------------+-------+-----+--------+------------------+-------------------+------+-------------+-----+--------------------+\n",
      "|          1|       0|     3|Braund, Mr. Owen ...|  male|22.0|    1|    0|       A/5 21171|   7.25| NULL|       S|1.5144738264626911| 0.1370020155009282|   0.0|(1,[0],[1.0])|  0.0|[1.0,1.5144738264...|\n",
      "|          2|       1|     1|Cumings, Mrs. Joh...|female|38.0|    1|    0|        PC 17599|71.2833|  C85|       C|2.6159093366173756| 1.3470283822837676|   1.0|    (1,[],[])|  1.0|[0.0,2.6159093366...|\n",
      "|          3|       1|     3|Heikkinen, Miss. ...|female|26.0|    0|    0|STON/O2. 3101282|  7.925| NULL|       S|1.7898327040013622|0.14975737556480773|   1.0|    (1,[],[])|  1.0|[0.0,1.7898327040...|\n",
      "|          4|       1|     1|Futrelle, Mrs. Ja...|female|35.0|    1|    0|          113803|   53.1| C123|       S|2.4093901784633722| 1.0034216583585225|   1.0|    (1,[],[])|  1.0|[0.0,2.4093901784...|\n",
      "|          5|       0|     3|Allen, Mr. Willia...|  male|35.0|    0|    0|          373450|   8.05| NULL|       S|2.4093901784633722|0.15211947928034097|   0.0|(1,[0],[1.0])|  0.0|[1.0,2.4093901784...|\n",
      "+-----------+--------+------+--------------------+------+----+-----+-----+----------------+-------+-----+--------+------------------+-------------------+------+-------------+-----+--------------------+\n",
      "only showing top 5 rows\n",
      "\n"
     ]
    }
   ],
   "source": [
    "dataset.show(5)"
   ]
  },
  {
   "cell_type": "code",
   "execution_count": 94,
   "id": "7b729d8c-4cc6-4fae-a2f3-36edfc80b557",
   "metadata": {},
   "outputs": [],
   "source": [
    "(train, test) = dataset.randomSplit([0.7,0.3], seed=14)"
   ]
  },
  {
   "cell_type": "markdown",
   "id": "ff40c939-9e11-4e54-bea9-ddd1a6f9be50",
   "metadata": {},
   "source": [
    "# 적절한 모델준비"
   ]
  },
  {
   "cell_type": "code",
   "execution_count": 95,
   "id": "bc9b1df2-7b53-4c05-9d96-e13674bc3a24",
   "metadata": {},
   "outputs": [],
   "source": [
    "lr = LogisticRegression(labelCol='label', featuresCol='features', maxIter=10)"
   ]
  },
  {
   "cell_type": "code",
   "execution_count": 97,
   "id": "529a07cb-349d-46f8-adaa-e0066ea52ea9",
   "metadata": {},
   "outputs": [
    {
     "name": "stdout",
     "output_type": "stream",
     "text": [
      "+-----------+--------+------+--------------------+------+----+-----+-----+----------------+-------+-----+--------+-------------------+-------------------+------+-------------+-----+--------------------+--------------------+--------------------+----------+\n",
      "|PassengerId|Survived|Pclass|                Name|   Sex| Age|SibSp|Parch|          Ticket|   Fare|Cabin|Embarked|          AgeScaled|         FareScaled|SexIdx|  SexClassVec|label|            features|       rawPrediction|         probability|prediction|\n",
      "+-----------+--------+------+--------------------+------+----+-----+-----+----------------+-------+-----+--------+-------------------+-------------------+------+-------------+-----+--------------------+--------------------+--------------------+----------+\n",
      "|          3|       1|     3|Heikkinen, Miss. ...|female|26.0|    0|    0|STON/O2. 3101282|  7.925| NULL|       S| 1.7898327040013622|0.14975737556480773|   1.0|    (1,[],[])|  1.0|[0.0,1.7898327040...|[-0.7640567598771...|[0.31776614845154...|       1.0|\n",
      "|          4|       1|     1|Futrelle, Mrs. Ja...|female|35.0|    1|    0|          113803|   53.1| C123|       S| 2.4093901784633722| 1.0034216583585225|   1.0|    (1,[],[])|  1.0|[0.0,2.4093901784...|[-1.2343005155902...|[0.22542962137433...|       1.0|\n",
      "|          5|       0|     3|Allen, Mr. Willia...|  male|35.0|    0|    0|          373450|   8.05| NULL|       S| 2.4093901784633722|0.15211947928034097|   0.0|(1,[0],[1.0])|  0.0|[1.0,2.4093901784...|[1.68629033561213...|[0.84373567971499...|       0.0|\n",
      "|          8|       0|     3|Palsson, Master. ...|  male| 2.0|    3|    1|          349909| 21.075| NULL|       S|0.13767943876933555| 0.3982506864389051|   0.0|(1,[0],[1.0])|  0.0|[1.0,0.1376794387...|[1.21962812262342...|[0.77199809929498...|       0.0|\n",
      "|          9|       1|     3|Johnson, Mrs. Osc...|female|27.0|    0|    2|          347742|11.1333| NULL|       S|   1.85867242338603| 0.2103840743691702|   1.0|    (1,[],[])|  1.0|[0.0,1.8586724233...|[-0.7940970156083...|[0.31128963840582...|       1.0|\n",
      "+-----------+--------+------+--------------------+------+----+-----+-----+----------------+-------+-----+--------+-------------------+-------------------+------+-------------+-----+--------------------+--------------------+--------------------+----------+\n",
      "only showing top 5 rows\n",
      "\n"
     ]
    }
   ],
   "source": [
    "lrModel = lr.fit(train) #훈련\n",
    "predictions = lrModel.transform(test) #예측\n",
    "predictions.show(5)"
   ]
  },
  {
   "cell_type": "code",
   "execution_count": 99,
   "id": "325319e0-5401-4de8-aa62-36930400988c",
   "metadata": {},
   "outputs": [
    {
     "name": "stdout",
     "output_type": "stream",
     "text": [
      "+--------+-----+----------+\n",
      "|Survived|label|prediction|\n",
      "+--------+-----+----------+\n",
      "|       1|  1.0|       1.0|\n",
      "|       1|  1.0|       1.0|\n",
      "|       0|  0.0|       0.0|\n",
      "|       0|  0.0|       0.0|\n",
      "|       1|  1.0|       1.0|\n",
      "|       0|  0.0|       0.0|\n",
      "|       1|  1.0|       1.0|\n",
      "|       0|  0.0|       0.0|\n",
      "|       0|  0.0|       1.0|\n",
      "|       1|  1.0|       1.0|\n",
      "+--------+-----+----------+\n",
      "only showing top 10 rows\n",
      "\n"
     ]
    }
   ],
   "source": [
    "predictions.select('Survived','label','prediction').show(10)"
   ]
  },
  {
   "cell_type": "markdown",
   "id": "4d3af890-4eeb-4a91-8eba-98b18284f2d2",
   "metadata": {},
   "source": [
    "# 평가"
   ]
  },
  {
   "cell_type": "code",
   "execution_count": 101,
   "id": "4b602ef3-d32a-4eae-b495-95c694456720",
   "metadata": {},
   "outputs": [
    {
     "data": {
      "text/plain": [
       "0.8455151964418081"
      ]
     },
     "execution_count": 101,
     "metadata": {},
     "output_type": "execute_result"
    }
   ],
   "source": [
    "from pyspark.ml.evaluation import BinaryClassificationEvaluator\n",
    "evaluator = BinaryClassificationEvaluator(rawPredictionCol='rawPrediction')\n",
    "evaluator.evaluate(predictions)"
   ]
  },
  {
   "cell_type": "code",
   "execution_count": 111,
   "id": "efe377f5-510d-41a1-b337-1dbbd7596b41",
   "metadata": {},
   "outputs": [
    {
     "name": "stdout",
     "output_type": "stream",
     "text": [
      "테스트 표본: 237 \n",
      "틀린 갯수:  54\n"
     ]
    }
   ],
   "source": [
    "predictions.createOrReplaceTempView('predic')\n",
    "print('테스트 표본:',predictions.count(), \"\\n\"\n",
    "'틀린 갯수: ', spark.sql(\"select * from predic where label != prediction\").count())"
   ]
  },
  {
   "cell_type": "code",
   "execution_count": null,
   "id": "b9ac5285-9020-4224-92d3-25171d153b0f",
   "metadata": {},
   "outputs": [],
   "source": []
  }
 ],
 "metadata": {
  "kernelspec": {
   "display_name": "Python 3 (ipykernel)",
   "language": "python",
   "name": "python3"
  },
  "language_info": {
   "codemirror_mode": {
    "name": "ipython",
    "version": 3
   },
   "file_extension": ".py",
   "mimetype": "text/x-python",
   "name": "python",
   "nbconvert_exporter": "python",
   "pygments_lexer": "ipython3",
   "version": "3.9.10"
  }
 },
 "nbformat": 4,
 "nbformat_minor": 5
}
