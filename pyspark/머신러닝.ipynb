{
 "cells": [
  {
   "cell_type": "code",
   "execution_count": 2,
   "id": "871759bb-038f-4396-9e26-b48b1d90ad6e",
   "metadata": {},
   "outputs": [],
   "source": [
    "from pyspark.ml.feature import OneHotEncoder,StringIndexer,VectorAssembler, StandardScaler\n",
    "from pyspark.ml import Pipeline\n",
    "from pyspark.ml.classification import LogisticRegression \n",
    "from pyspark.sql.functions import col,stddev_samp"
   ]
  },
  {
   "cell_type": "code",
   "execution_count": 3,
   "id": "f517c9ee-25d0-4d1a-b2e4-d65010130cf0",
   "metadata": {},
   "outputs": [],
   "source": [
    "# read data  - 수집\n",
    "# data preprocessing  -EDA \n",
    "# model create or choice\n",
    "# training\n",
    "# predict(classification / regression)\n",
    "# score\n",
    "# 배포 - 엔지니어링"
   ]
  },
  {
   "cell_type": "markdown",
   "id": "4e419ffd-0ca3-4c9f-a3ef-fe2d70795f65",
   "metadata": {},
   "source": [
    "# 데이터를 수집"
   ]
  },
  {
   "cell_type": "code",
   "execution_count": 4,
   "id": "e754666f-6239-4852-b8cd-54e43c04f37a",
   "metadata": {},
   "outputs": [
    {
     "name": "stderr",
     "output_type": "stream",
     "text": [
      "                                                                                \r"
     ]
    }
   ],
   "source": [
    "df = spark.read.format('csv')\\\n",
    "    .options(header = 'true', inferSchema = 'true')\\\n",
    "    .load('Default.csv').drop('_c0').cache()"
   ]
  },
  {
   "cell_type": "code",
   "execution_count": 5,
   "id": "5a422edf-3071-4029-8239-63bf92323bba",
   "metadata": {},
   "outputs": [
    {
     "name": "stderr",
     "output_type": "stream",
     "text": [
      "[Stage 2:>                                                          (0 + 1) / 1]\r"
     ]
    },
    {
     "name": "stdout",
     "output_type": "stream",
     "text": [
      "+-------+-------+-----------+-----------+\n",
      "|default|student|    balance|     income|\n",
      "+-------+-------+-----------+-----------+\n",
      "|     No|     No|729.5264952|44361.62507|\n",
      "|     No|    Yes|817.1804066| 12106.1347|\n",
      "+-------+-------+-----------+-----------+\n",
      "only showing top 2 rows\n",
      "\n"
     ]
    },
    {
     "name": "stderr",
     "output_type": "stream",
     "text": [
      "                                                                                \r"
     ]
    }
   ],
   "source": [
    "df.show(2)"
   ]
  },
  {
   "cell_type": "code",
   "execution_count": 45,
   "id": "c8104654-9f34-4de1-b840-f32be57353d7",
   "metadata": {},
   "outputs": [
    {
     "name": "stdout",
     "output_type": "stream",
     "text": [
      "+-------+\n",
      "|student|\n",
      "+-------+\n",
      "|     No|\n",
      "|    Yes|\n",
      "+-------+\n",
      "\n",
      "+-------+-----+\n",
      "|default|count|\n",
      "+-------+-----+\n",
      "|     No| 9667|\n",
      "|    Yes|  333|\n",
      "+-------+-----+\n",
      "\n"
     ]
    }
   ],
   "source": [
    "df.select(\"student\").distinct().show()\n",
    "df.groupBy(\"default\").count().show()"
   ]
  },
  {
   "cell_type": "markdown",
   "id": "744e824a-f427-4365-ab4e-c7087232f787",
   "metadata": {},
   "source": [
    "# 범주형 데이터에 대한 전처리 준비"
   ]
  },
  {
   "cell_type": "code",
   "execution_count": 7,
   "id": "54e88e7e-7066-482d-9907-cd32b986d9ab",
   "metadata": {},
   "outputs": [],
   "source": [
    "params = {\n",
    "    'inputCol' : 'student',\n",
    "    'outputCol' : 'studentIdx'\n",
    "}\n",
    "strIdx = StringIndexer(**params)\n",
    "\n",
    "# **은 언패킹 \n",
    "#strIdx = StringIndexer(**params)\n",
    "#strIdx = StringIndexer(inputCol = 'student', outputCol = 'studentIdx')\n",
    "#위 두개 코드는 동일"
   ]
  },
  {
   "cell_type": "code",
   "execution_count": 8,
   "id": "9e849596-ba09-412e-a342-b1fb8a143baf",
   "metadata": {},
   "outputs": [],
   "source": [
    "params = {\n",
    "    'inputCol' : 'default',\n",
    "    'outputCol' : 'label'\n",
    "}\n",
    "label_strIdx = StringIndexer(**params)"
   ]
  },
  {
   "cell_type": "code",
   "execution_count": 9,
   "id": "81db9c18-6602-4ea3-96c3-aa6eebeaa3f9",
   "metadata": {},
   "outputs": [],
   "source": [
    "# onehot 수치형 데이터에 대해서 처리\n",
    "#원핫 인코딩(One-Hot Encoding)은 범주형 데이터를 이진 형태로 변환하는 방법 각 범주를 대표하는 새로운 열이 생성되고, 해당 범주에 해당하는 경우 1, 그렇지 않은 경우 0으로 표시\n",
    "# 예)의류 사이즈 2XL,XL, L, M, S --> 라벨링 작업 필요(숫자형 데이터로 바꿔줘야함)labeling(4,3,2,1,0) --> onehot 적용 시 (10000, 01000, 00010, 00001)\n",
    "params = {\n",
    "    'inputCol' : 'studentIdx',\n",
    "    'outputCol' : 'studentClassVec'\n",
    "}\n",
    "encode = OneHotEncoder(**params)"
   ]
  },
  {
   "cell_type": "code",
   "execution_count": 10,
   "id": "5664dcb1-dd23-47c0-8a77-44d94e0b2133",
   "metadata": {},
   "outputs": [
    {
     "data": {
      "text/plain": [
       "[StringIndexer_fd03afd3b2d8,\n",
       " OneHotEncoder_c97c316c306c,\n",
       " StringIndexer_1b4ae3a668ba]"
      ]
     },
     "execution_count": 10,
     "metadata": {},
     "output_type": "execute_result"
    }
   ],
   "source": [
    "stage = [strIdx, encode, label_strIdx]\n",
    "stage"
   ]
  },
  {
   "cell_type": "markdown",
   "id": "a5c12d68-5c09-4cf6-ade3-da3c2356bdd9",
   "metadata": {},
   "source": [
    "# 연속형 데이터에 대한 전처리 준비"
   ]
  },
  {
   "cell_type": "code",
   "execution_count": 11,
   "id": "9959cc12-fc83-4372-801b-d859e89b3324",
   "metadata": {},
   "outputs": [],
   "source": [
    "numCols = ['income','balance']\n",
    "#scaling\n",
    "for c in numCols:\n",
    "    df = df.withColumn(c+'Scaled', col(c) / df.agg(stddev_samp(c)).first()[0])"
   ]
  },
  {
   "cell_type": "code",
   "execution_count": 12,
   "id": "31ef2956-29e4-4539-b881-8d3296f33a2d",
   "metadata": {},
   "outputs": [
    {
     "name": "stdout",
     "output_type": "stream",
     "text": [
      "+-------+-------+-----------+-----------+------------------+------------------+\n",
      "|default|student|    balance|     income|      incomeScaled|     balanceScaled|\n",
      "+-------+-------+-----------+-----------+------------------+------------------+\n",
      "|     No|     No|729.5264952|44361.62507|3.3262970676634867|1.5081742710178534|\n",
      "|     No|    Yes|817.1804066| 12106.1347|0.9077350139857981|1.6893841034192338|\n",
      "+-------+-------+-----------+-----------+------------------+------------------+\n",
      "only showing top 2 rows\n",
      "\n"
     ]
    }
   ],
   "source": [
    "df.show(2)"
   ]
  },
  {
   "cell_type": "code",
   "execution_count": 13,
   "id": "f34bbba3-d9bf-44bf-aa82-16cf9b92f788",
   "metadata": {},
   "outputs": [],
   "source": [
    "inputs = ['studentClassVec', 'incomeScaled', 'balanceScaled']"
   ]
  },
  {
   "cell_type": "code",
   "execution_count": 14,
   "id": "033c46b0-f3f7-44ce-9bbb-4210b75a8cfe",
   "metadata": {},
   "outputs": [
    {
     "data": {
      "text/plain": [
       "[StringIndexer_fd03afd3b2d8,\n",
       " OneHotEncoder_c97c316c306c,\n",
       " StringIndexer_1b4ae3a668ba,\n",
       " VectorAssembler_6bfc00ac2931]"
      ]
     },
     "execution_count": 14,
     "metadata": {},
     "output_type": "execute_result"
    }
   ],
   "source": [
    "assembler = VectorAssembler(inputCols=inputs, outputCol='features')\n",
    "stage +=[assembler]\n",
    "stage"
   ]
  },
  {
   "cell_type": "markdown",
   "id": "457680c3-3e89-47bf-bca0-432d8836af00",
   "metadata": {},
   "source": [
    "# 학습용, 평가용 데이터 준비 끝\n",
    "결측치, 이상치, 피처엔지니어링과 같은 고급 기법은 적용안함\n",
    "스케일만 맞춤"
   ]
  },
  {
   "cell_type": "code",
   "execution_count": 17,
   "id": "aae163a4-39c0-4d8b-8f67-22396c3b815b",
   "metadata": {},
   "outputs": [
    {
     "name": "stderr",
     "output_type": "stream",
     "text": [
      "                                                                                \r"
     ]
    }
   ],
   "source": [
    "#pipe line \n",
    "pipeline = Pipeline(stages=stage)\n",
    "piplineModel = pipeline.fit(df)\n",
    "dataset = piplineModel.transform(df)"
   ]
  },
  {
   "cell_type": "code",
   "execution_count": 22,
   "id": "d4d4303c-e42b-4dd6-afa1-0b3b8748825b",
   "metadata": {},
   "outputs": [
    {
     "name": "stdout",
     "output_type": "stream",
     "text": [
      "+-------+-------+-----------+-----------+------------------+------------------+----------+---------------+-----+--------------------+\n",
      "|default|student|    balance|     income|      incomeScaled|     balanceScaled|studentIdx|studentClassVec|label|            features|\n",
      "+-------+-------+-----------+-----------+------------------+------------------+----------+---------------+-----+--------------------+\n",
      "|     No|     No|729.5264952|44361.62507|3.3262970676634867|1.5081742710178534|       0.0|  (1,[0],[1.0])|  0.0|[1.0,3.3262970676...|\n",
      "|     No|    Yes|817.1804066| 12106.1347|0.9077350139857981|1.6893841034192338|       1.0|      (1,[],[])|  0.0|[0.0,0.9077350139...|\n",
      "|     No|     No|1073.549164|31767.13895|2.3819447770614217|2.2193837214557224|       0.0|  (1,[0],[1.0])|  0.0|[1.0,2.3819447770...|\n",
      "|     No|     No|529.2506047|35704.49394|2.6771731943459827|1.0941372934102322|       0.0|  (1,[0],[1.0])|  0.0|[1.0,2.6771731943...|\n",
      "|     No|     No|785.6558829|38463.49588|2.8840470419162356|1.6242124121054071|       0.0|  (1,[0],[1.0])|  0.0|[1.0,2.8840470419...|\n",
      "+-------+-------+-----------+-----------+------------------+------------------+----------+---------------+-----+--------------------+\n",
      "only showing top 5 rows\n",
      "\n"
     ]
    }
   ],
   "source": [
    "dataset.show(5)"
   ]
  },
  {
   "cell_type": "code",
   "execution_count": 23,
   "id": "4b17e0d7-3077-49b8-b4e5-effaf13febbe",
   "metadata": {},
   "outputs": [],
   "source": [
    "#train, test, split, "
   ]
  },
  {
   "cell_type": "code",
   "execution_count": 31,
   "id": "c021031c-f40f-4479-bf21-e57cd97437bd",
   "metadata": {},
   "outputs": [],
   "source": [
    "# 7: 3 \n",
    "# 데이터 중 7은 훈련을 시키고 3은 테스트를 시킴\n",
    "# 보통을 7.5 : 2.5\n",
    "# seed 고정시킴 \n",
    "(train, test) = dataset.randomSplit([0.7,0.3], seed=14)"
   ]
  },
  {
   "cell_type": "code",
   "execution_count": 32,
   "id": "5c3629bb-1782-42f6-92e5-5951dbf3e0b8",
   "metadata": {},
   "outputs": [
    {
     "name": "stderr",
     "output_type": "stream",
     "text": [
      "                                                                                \r"
     ]
    },
    {
     "data": {
      "text/plain": [
       "6907"
      ]
     },
     "execution_count": 32,
     "metadata": {},
     "output_type": "execute_result"
    }
   ],
   "source": [
    "train.count()"
   ]
  },
  {
   "cell_type": "code",
   "execution_count": 33,
   "id": "0d334d18-72b3-41bf-b367-d996f87b1c7a",
   "metadata": {},
   "outputs": [
    {
     "data": {
      "text/plain": [
       "3093"
      ]
     },
     "execution_count": 33,
     "metadata": {},
     "output_type": "execute_result"
    }
   ],
   "source": [
    "test.count()"
   ]
  },
  {
   "cell_type": "code",
   "execution_count": 34,
   "id": "a7f9b6f1-6fad-461d-bbee-d442ecd4f4aa",
   "metadata": {},
   "outputs": [
    {
     "data": {
      "text/plain": [
       "10000"
      ]
     },
     "execution_count": 34,
     "metadata": {},
     "output_type": "execute_result"
    }
   ],
   "source": [
    "dataset.count()"
   ]
  },
  {
   "cell_type": "markdown",
   "id": "8d853ebf-66cd-4108-9ca4-68d660996c15",
   "metadata": {},
   "source": [
    "# 적절한 모델준비"
   ]
  },
  {
   "cell_type": "code",
   "execution_count": 35,
   "id": "1b8ebcfa-931c-4422-a679-d1ff1dd49cd5",
   "metadata": {},
   "outputs": [],
   "source": [
    "# label --> 알고자 하는 것\n",
    "# features 다 모아 둔 것\n",
    "lr = LogisticRegression(labelCol='label', featuresCol='features', maxIter=10)"
   ]
  },
  {
   "cell_type": "code",
   "execution_count": 37,
   "id": "317cd32f-2079-4473-bca9-afc7b97916e9",
   "metadata": {},
   "outputs": [
    {
     "name": "stdout",
     "output_type": "stream",
     "text": [
      "+-------+-------+-------+-----------+------------------+-------------+----------+---------------+-----+--------------------+--------------------+--------------------+----------+\n",
      "|default|student|balance|     income|      incomeScaled|balanceScaled|studentIdx|studentClassVec|label|            features|       rawPrediction|         probability|prediction|\n",
      "+-------+-------+-------+-----------+------------------+-------------+----------+---------------+-----+--------------------+--------------------+--------------------+----------+\n",
      "|     No|     No|    0.0|16601.63528|1.2448139729585133|          0.0|       0.0|  (1,[0],[1.0])|  0.0|[1.0,1.2448139729...|[10.6128038095014...|[0.99997540158156...|       0.0|\n",
      "|     No|     No|    0.0|16834.80271|1.2622971949428254|          0.0|       0.0|  (1,[0],[1.0])|  0.0|[1.0,1.2622971949...|[10.6130159125976...|[0.99997540679828...|       0.0|\n",
      "|     No|     No|    0.0|17059.36832| 1.279135440360174|          0.0|       0.0|  (1,[0],[1.0])|  0.0|[1.0,1.2791354403...|[10.6132201909617...|[0.99997541182150...|       0.0|\n",
      "|     No|     No|    0.0|18593.91474|1.3941978901461123|          0.0|       0.0|  (1,[0],[1.0])|  0.0|[1.0,1.3941978901...|[10.6146161065358...|[0.99997544611973...|       0.0|\n",
      "|     No|     No|    0.0|19572.30011|1.4675586018454834|          0.0|       0.0|  (1,[0],[1.0])|  0.0|[1.0,1.4675586018...|[10.6155061046210...|[0.99997546796238...|       0.0|\n",
      "|     No|     No|    0.0|22535.50636|1.6897439759093085|          0.0|       0.0|  (1,[0],[1.0])|  0.0|[1.0,1.6897439759...|[10.6182016149684...|[0.99997553399808...|       0.0|\n",
      "|     No|     No|    0.0|23616.53901|1.7708013250949948|          0.0|       0.0|  (1,[0],[1.0])|  0.0|[1.0,1.7708013250...|[10.6191849871835...|[0.99997555804486...|       0.0|\n",
      "|     No|     No|    0.0|23910.13966| 1.792815914948682|          0.0|       0.0|  (1,[0],[1.0])|  0.0|[1.0,1.7928159149...|[10.6194520639656...|[0.99997556457171...|       0.0|\n",
      "|     No|     No|    0.0|24461.85446| 1.834184266954064|          0.0|       0.0|  (1,[0],[1.0])|  0.0|[1.0,1.8341842669...|[10.6199539368785...|[0.99997557683181...|       0.0|\n",
      "|     No|     No|    0.0|24818.35863|1.8609154512470114|          0.0|       0.0|  (1,[0],[1.0])|  0.0|[1.0,1.8609154512...|[10.6202782344798...|[0.99997558475071...|       0.0|\n",
      "|     No|     No|    0.0|24892.91569|1.8665058445128193|          0.0|       0.0|  (1,[0],[1.0])|  0.0|[1.0,1.8665058445...|[10.6203460560588...|[0.99997558640649...|       0.0|\n",
      "|     No|     No|    0.0|25603.53326| 1.919788949800133|          0.0|       0.0|  (1,[0],[1.0])|  0.0|[1.0,1.9197889498...|[10.6209924764735...|[0.99997560218245...|       0.0|\n",
      "|     No|     No|    0.0|25964.84434|1.9468805629685395|          0.0|       0.0|  (1,[0],[1.0])|  0.0|[1.0,1.9468805629...|[10.6213211467288...|[0.99997561019977...|       0.0|\n",
      "|     No|     No|    0.0|26100.75191|1.9570711037986135|          0.0|       0.0|  (1,[0],[1.0])|  0.0|[1.0,1.9570711037...|[10.6214447764158...|[0.99997561321482...|       0.0|\n",
      "|     No|     No|    0.0|26237.47434|1.9673227439780527|          0.0|       0.0|  (1,[0],[1.0])|  0.0|[1.0,1.9673227439...|[10.6215691473484...|[0.99997561624756...|       0.0|\n",
      "|     No|     No|    0.0|26626.48588|1.9964913766137475|          0.0|       0.0|  (1,[0],[1.0])|  0.0|[1.0,1.9964913766...|[10.6219230156056...|[0.99997562487446...|       0.0|\n",
      "|     No|     No|    0.0|27367.78266|2.0520748522346595|          0.0|       0.0|  (1,[0],[1.0])|  0.0|[1.0,2.0520748522...|[10.6225973436720...|[0.99997564130535...|       0.0|\n",
      "|     No|     No|    0.0|27888.82603|2.0911434172617906|          0.0|       0.0|  (1,[0],[1.0])|  0.0|[1.0,2.0911434172...|[10.6230713160103...|[0.99997565284768...|       0.0|\n",
      "|     No|     No|    0.0|28490.77146| 2.136278132582589|          0.0|       0.0|  (1,[0],[1.0])|  0.0|[1.0,2.1362781325...|[10.6236188817206...|[0.99997566617538...|       0.0|\n",
      "|     No|     No|    0.0|28798.03997| 2.159317557810713|          0.0|       0.0|  (1,[0],[1.0])|  0.0|[1.0,2.1593175578...|[10.6238983916090...|[0.99997567297580...|       0.0|\n",
      "+-------+-------+-------+-----------+------------------+-------------+----------+---------------+-----+--------------------+--------------------+--------------------+----------+\n",
      "only showing top 20 rows\n",
      "\n"
     ]
    }
   ],
   "source": [
    "lrModel = lr.fit(train) #훈련\n",
    "predictions = lrModel.transform(test) #예측\n",
    "predictions.show()"
   ]
  },
  {
   "cell_type": "code",
   "execution_count": 38,
   "id": "8a10b26f-31a4-4199-8f91-090a3d400d5f",
   "metadata": {},
   "outputs": [
    {
     "name": "stdout",
     "output_type": "stream",
     "text": [
      "+-------+----------+\n",
      "|default|prediction|\n",
      "+-------+----------+\n",
      "|     No|       0.0|\n",
      "|     No|       0.0|\n",
      "|     No|       0.0|\n",
      "|     No|       0.0|\n",
      "|     No|       0.0|\n",
      "+-------+----------+\n",
      "only showing top 5 rows\n",
      "\n"
     ]
    }
   ],
   "source": [
    "predictions.select('default','prediction').show(5)"
   ]
  },
  {
   "cell_type": "markdown",
   "id": "1f95d454-647a-4052-88e2-540639938585",
   "metadata": {},
   "source": [
    "# 평가"
   ]
  },
  {
   "cell_type": "code",
   "execution_count": 46,
   "id": "fb962ce1-e41a-453e-88e8-f08fbf94a0e7",
   "metadata": {},
   "outputs": [],
   "source": [
    "from pyspark.ml.evaluation import BinaryClassificationEvaluator\n",
    "# 이진븐류로 평가"
   ]
  },
  {
   "cell_type": "code",
   "execution_count": 47,
   "id": "7fdb1a81-6afe-47cb-a9f8-11b3e6f5fb24",
   "metadata": {},
   "outputs": [
    {
     "name": "stderr",
     "output_type": "stream",
     "text": [
      "                                                                                \r"
     ]
    },
    {
     "data": {
      "text/plain": [
       "0.9549682684102574"
      ]
     },
     "execution_count": 47,
     "metadata": {},
     "output_type": "execute_result"
    }
   ],
   "source": [
    "evaluator = BinaryClassificationEvaluator(rawPredictionCol='rawPrediction')\n",
    "evaluator.evaluate(predictions)"
   ]
  },
  {
   "cell_type": "code",
   "execution_count": 60,
   "id": "faaf5a80-8abd-4b66-b77a-5734518329fd",
   "metadata": {},
   "outputs": [],
   "source": [
    "predictions.createOrReplaceTempView('predic')"
   ]
  },
  {
   "cell_type": "code",
   "execution_count": 61,
   "id": "a6dc0496-fe14-4afc-a332-2dd7c0706a03",
   "metadata": {},
   "outputs": [
    {
     "data": {
      "text/plain": [
       "3093"
      ]
     },
     "execution_count": 61,
     "metadata": {},
     "output_type": "execute_result"
    }
   ],
   "source": [
    "predictions.count()"
   ]
  },
  {
   "cell_type": "code",
   "execution_count": 57,
   "id": "343026ed-cb22-4a67-8d03-a142eb3fed9f",
   "metadata": {},
   "outputs": [
    {
     "data": {
      "text/plain": [
       "98"
      ]
     },
     "execution_count": 57,
     "metadata": {},
     "output_type": "execute_result"
    }
   ],
   "source": [
    "spark.sql(\"select * from predic where label != prediction\").count()"
   ]
  },
  {
   "cell_type": "markdown",
   "id": "99cd2792-d6d9-4e69-97dc-7b029152d835",
   "metadata": {},
   "source": [
    "# 위와 같은 방식의 평가가 과연 일반화 시킬 수 있을까\n",
    "- 교차검증을 통해 신뢰성을 확보할 수 있음\n",
    "- 각종 파라미터의 값이 변경됨에 따라서 모델 성능이 달라짐 -> 하이퍼 파라미터 튜닝 기법"
   ]
  },
  {
   "cell_type": "code",
   "execution_count": null,
   "id": "ee15b1c0-890d-424b-a733-d240f68f44d1",
   "metadata": {},
   "outputs": [],
   "source": []
  }
 ],
 "metadata": {
  "kernelspec": {
   "display_name": "Python 3 (ipykernel)",
   "language": "python",
   "name": "python3"
  },
  "language_info": {
   "codemirror_mode": {
    "name": "ipython",
    "version": 3
   },
   "file_extension": ".py",
   "mimetype": "text/x-python",
   "name": "python",
   "nbconvert_exporter": "python",
   "pygments_lexer": "ipython3",
   "version": "3.9.10"
  }
 },
 "nbformat": 4,
 "nbformat_minor": 5
}
