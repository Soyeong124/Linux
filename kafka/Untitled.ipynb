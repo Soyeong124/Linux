{
 "cells": [
  {
   "cell_type": "code",
   "execution_count": 1,
   "id": "d33b0f15-18d3-4160-8190-c2f9d21df992",
   "metadata": {},
   "outputs": [
    {
     "name": "stdout",
     "output_type": "stream",
     "text": [
      "Collecting pymysql\n",
      "  Downloading PyMySQL-1.1.0-py3-none-any.whl (44 kB)\n",
      "\u001b[K     |████████████████████████████████| 44 kB 989 kB/s eta 0:00:01\n",
      "\u001b[?25hInstalling collected packages: pymysql\n",
      "Successfully installed pymysql-1.1.0\n",
      "\u001b[33mWARNING: Running pip as the 'root' user can result in broken permissions and conflicting behaviour with the system package manager. It is recommended to use a virtual environment instead: https://pip.pypa.io/warnings/venv\u001b[0m\n",
      "\u001b[33mWARNING: You are using pip version 21.2.3; however, version 24.0 is available.\n",
      "You should consider upgrading via the '/usr/bin/python3 -m pip install --upgrade pip' command.\u001b[0m\n"
     ]
    }
   ],
   "source": [
    "# 필요한 라이브러리 설치\n",
    "!pip3 install pymysql"
   ]
  },
  {
   "cell_type": "code",
   "execution_count": 7,
   "id": "7e1aadcd-d8bb-48b3-b981-3e45d2665360",
   "metadata": {},
   "outputs": [],
   "source": [
    "from kafka import KafkaProducer, KafkaConsumer\n",
    "import json\n",
    "import pymysql"
   ]
  },
  {
   "cell_type": "code",
   "execution_count": 10,
   "id": "0ce05cb4-904a-40e1-bea1-2937e7f83bab",
   "metadata": {},
   "outputs": [],
   "source": [
    "topic = 'kafka_sql'\n",
    "\n",
    "def create_producer(bootstrap_servers = 'localhost:9092', value_serializer = lambda x : json.dumps(x).encode(\"utf-8\")):\n",
    "    producer = KafkaProducer(bootstrap_servers=bootstrap_servers, value_serializer = value_serializer)\n",
    "    #쿼리를 만들어서 토픽에 실어서 보낸다\n",
    "    sql = []\n",
    "    sql.append('''\n",
    "        create table tbl_kafka_data(\n",
    "            name varchar(10),\n",
    "            email varchar(50),\n",
    "            phone varchar(50)\n",
    "        );'''\n",
    "        )\n",
    "    sql.append(\"insert into tbl_kafka_data values('lee', 'lee@gmail.com','010-0000-0000');\")\n",
    "    sql.append(\"insert into tbl_kafka_data values('hong', 'hong@gmail.com','010-0001-0000');\")\n",
    "    sql.append(\"insert into tbl_kafka_data values('kang', 'kang@gmail.com','010-0002-0000');\")\n",
    "    for data in sql:\n",
    "        producer.send(topic,value=data)\n",
    "        producer.flush()"
   ]
  },
  {
   "cell_type": "code",
   "execution_count": 11,
   "id": "2a5e9150-f8e4-450f-931b-095e3c79287e",
   "metadata": {
    "collapsed": true,
    "jupyter": {
     "outputs_hidden": true
    },
    "scrolled": true
   },
   "outputs": [
    {
     "ename": "AttributeError",
     "evalue": "'NoneType' object has no attribute 'encoding'",
     "output_type": "error",
     "traceback": [
      "\u001b[0;31m---------------------------------------------------------------------------\u001b[0m",
      "\u001b[0;31mAttributeError\u001b[0m                            Traceback (most recent call last)",
      "Cell \u001b[0;32mIn[11], line 2\u001b[0m\n\u001b[1;32m      1\u001b[0m \u001b[38;5;66;03m#mysql connect\u001b[39;00m\n\u001b[0;32m----> 2\u001b[0m mysql_con \u001b[38;5;241m=\u001b[39m \u001b[43mpymysql\u001b[49m\u001b[38;5;241;43m.\u001b[39;49m\u001b[43mconnect\u001b[49m\u001b[43m(\u001b[49m\n\u001b[1;32m      3\u001b[0m \u001b[43m    \u001b[49m\u001b[43mhost\u001b[49m\u001b[43m \u001b[49m\u001b[38;5;241;43m=\u001b[39;49m\u001b[43m \u001b[49m\u001b[38;5;124;43m'\u001b[39;49m\u001b[38;5;124;43mlocalhost\u001b[39;49m\u001b[38;5;124;43m'\u001b[39;49m\u001b[43m,\u001b[49m\n\u001b[1;32m      4\u001b[0m \u001b[43m    \u001b[49m\u001b[43muser\u001b[49m\u001b[43m \u001b[49m\u001b[38;5;241;43m=\u001b[39;49m\u001b[43m \u001b[49m\u001b[38;5;124;43m'\u001b[39;49m\u001b[38;5;124;43mroot\u001b[39;49m\u001b[38;5;124;43m'\u001b[39;49m\u001b[43m,\u001b[49m\n\u001b[1;32m      5\u001b[0m \u001b[43m    \u001b[49m\u001b[43mpassword\u001b[49m\u001b[43m \u001b[49m\u001b[38;5;241;43m=\u001b[39;49m\u001b[43m \u001b[49m\u001b[38;5;124;43m'\u001b[39;49m\u001b[38;5;124;43mpassword\u001b[39;49m\u001b[38;5;124;43m'\u001b[39;49m\u001b[43m,\u001b[49m\n\u001b[1;32m      6\u001b[0m \u001b[43m    \u001b[49m\u001b[43mdb\u001b[49m\u001b[43m \u001b[49m\u001b[38;5;241;43m=\u001b[39;49m\u001b[43m \u001b[49m\u001b[38;5;124;43m'\u001b[39;49m\u001b[38;5;124;43mhadoopguide\u001b[39;49m\u001b[38;5;124;43m'\u001b[39;49m\u001b[43m,\u001b[49m\n\u001b[1;32m      7\u001b[0m \u001b[43m    \u001b[49m\u001b[43mcharset\u001b[49m\u001b[43m \u001b[49m\u001b[38;5;241;43m=\u001b[39;49m\u001b[43m \u001b[49m\u001b[38;5;124;43m'\u001b[39;49m\u001b[38;5;124;43mutf-8\u001b[39;49m\u001b[38;5;124;43m'\u001b[39;49m\n\u001b[1;32m      8\u001b[0m \u001b[43m)\u001b[49m\n\u001b[1;32m     10\u001b[0m \u001b[38;5;66;03m#데이터 베이스의 쿼리를 실행하기 위한 커서\u001b[39;00m\n\u001b[1;32m     11\u001b[0m cursor \u001b[38;5;241m=\u001b[39m mysql_con\u001b[38;5;241m.\u001b[39mcursor()\n",
      "File \u001b[0;32m/usr/local/lib/python3.9/site-packages/pymysql/connections.py:316\u001b[0m, in \u001b[0;36mConnection.__init__\u001b[0;34m(self, user, password, host, database, unix_socket, port, charset, collation, sql_mode, read_default_file, conv, use_unicode, client_flag, cursorclass, init_command, connect_timeout, read_default_group, autocommit, local_infile, max_allowed_packet, defer_connect, auth_plugin_map, read_timeout, write_timeout, bind_address, binary_prefix, program_name, server_public_key, ssl, ssl_ca, ssl_cert, ssl_disabled, ssl_key, ssl_verify_cert, ssl_verify_identity, compress, named_pipe, passwd, db)\u001b[0m\n\u001b[1;32m    313\u001b[0m \u001b[38;5;28mself\u001b[39m\u001b[38;5;241m.\u001b[39mcollation \u001b[38;5;241m=\u001b[39m collation\n\u001b[1;32m    314\u001b[0m \u001b[38;5;28mself\u001b[39m\u001b[38;5;241m.\u001b[39muse_unicode \u001b[38;5;241m=\u001b[39m use_unicode\n\u001b[0;32m--> 316\u001b[0m \u001b[38;5;28mself\u001b[39m\u001b[38;5;241m.\u001b[39mencoding \u001b[38;5;241m=\u001b[39m \u001b[43mcharset_by_name\u001b[49m\u001b[43m(\u001b[49m\u001b[38;5;28;43mself\u001b[39;49m\u001b[38;5;241;43m.\u001b[39;49m\u001b[43mcharset\u001b[49m\u001b[43m)\u001b[49m\u001b[38;5;241;43m.\u001b[39;49m\u001b[43mencoding\u001b[49m\n\u001b[1;32m    318\u001b[0m client_flag \u001b[38;5;241m|\u001b[39m\u001b[38;5;241m=\u001b[39m CLIENT\u001b[38;5;241m.\u001b[39mCAPABILITIES\n\u001b[1;32m    319\u001b[0m \u001b[38;5;28;01mif\u001b[39;00m \u001b[38;5;28mself\u001b[39m\u001b[38;5;241m.\u001b[39mdb:\n",
      "\u001b[0;31mAttributeError\u001b[0m: 'NoneType' object has no attribute 'encoding'"
     ]
    }
   ],
   "source": [
    "#mysql connect\n",
    "mysql_con = pymysql.connect(\n",
    "    host = 'localhost',\n",
    "    user = 'root',\n",
    "    password = 'password',auto_offset_reset='earliest',\n",
    "    db = 'hadoopguide',\n",
    "    charset = 'utf8'\n",
    ")\n",
    "\n",
    "#데이터 베이스의 쿼리를 실행하기 위한 커서\n",
    "cursor = mysql_con.cursor()\n",
    "\n",
    "for message in consumer:\n",
    "    sql = message.value\n",
    "    cursor.excute(sql) #카프카의 메시지를 컨슈머가 sql에 넣음\n",
    "\n",
    "mysql_con.commit()\n",
    "mysql_con.close()"
   ]
  },
  {
   "cell_type": "code",
   "execution_count": null,
   "id": "79db836f-b978-4479-a336-e841e6f8a94a",
   "metadata": {},
   "outputs": [],
   "source": [
    "def create_consumer(topics, bootstrap_servers='localhost:9092', auto_offset_reset='earliest', value_deserializer=lambda x: json.loads(x.decode('utf-8')), =consumer_timeout) = 1000):\n",
    "    consumer = KafkaConsumer(topic, bootstrap_servers=bootstrap_servers, auto_offset_reset=auto_offset_reset, value_deserializer=value_deserializer,consumer_timeout=consumer_timeout)\n",
    "    #mysql connect\n",
    "    mysql_con = pymysql.connect(\n",
    "        host = 'localhost',\n",
    "        user = 'root',\n",
    "        password = 'password',auto_offset_reset='earliest',\n",
    "        db = 'hadoopguide',\n",
    "        charset = 'utf8'\n",
    "    )\n",
    "    \n",
    "    #데이터 베이스의 쿼리를 실행하기 위한 커서\n",
    "    cursor = mysql_con.cursor()\n",
    "    \n",
    "    for message in consumer:\n",
    "        sql = message.value\n",
    "        cursor.excute(sql) #카프카의 메시지를 컨슈머가 sql에 넣음\n",
    "    \n",
    "    mysql_con.commit()\n",
    "    mysql_con.close()"
   ]
  }
 ],
 "metadata": {
  "kernelspec": {
   "display_name": "Python 3 (ipykernel)",
   "language": "python",
   "name": "python3"
  },
  "language_info": {
   "codemirror_mode": {
    "name": "ipython",
    "version": 3
   },
   "file_extension": ".py",
   "mimetype": "text/x-python",
   "name": "python",
   "nbconvert_exporter": "python",
   "pygments_lexer": "ipython3",
   "version": "3.9.10"
  }
 },
 "nbformat": 4,
 "nbformat_minor": 5
}
