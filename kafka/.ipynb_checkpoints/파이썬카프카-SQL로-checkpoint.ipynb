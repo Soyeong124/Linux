{
 "cells": [
  {
   "cell_type": "code",
   "execution_count": 1,
   "id": "d33b0f15-18d3-4160-8190-c2f9d21df992",
   "metadata": {},
   "outputs": [
    {
     "name": "stdout",
     "output_type": "stream",
     "text": [
      "Collecting pymysql\n",
      "  Downloading PyMySQL-1.1.0-py3-none-any.whl (44 kB)\n",
      "\u001b[K     |████████████████████████████████| 44 kB 989 kB/s eta 0:00:01\n",
      "\u001b[?25hInstalling collected packages: pymysql\n",
      "Successfully installed pymysql-1.1.0\n",
      "\u001b[33mWARNING: Running pip as the 'root' user can result in broken permissions and conflicting behaviour with the system package manager. It is recommended to use a virtual environment instead: https://pip.pypa.io/warnings/venv\u001b[0m\n",
      "\u001b[33mWARNING: You are using pip version 21.2.3; however, version 24.0 is available.\n",
      "You should consider upgrading via the '/usr/bin/python3 -m pip install --upgrade pip' command.\u001b[0m\n"
     ]
    }
   ],
   "source": [
    "# 필요한 라이브러리 설치\n",
    "!pip3 install pymysql"
   ]
  },
  {
   "cell_type": "code",
   "execution_count": 1,
   "id": "7e1aadcd-d8bb-48b3-b981-3e45d2665360",
   "metadata": {},
   "outputs": [],
   "source": [
    "from kafka import KafkaProducer, KafkaConsumer\n",
    "import json\n",
    "import pymysql"
   ]
  },
  {
   "cell_type": "code",
   "execution_count": 71,
   "id": "0ce05cb4-904a-40e1-bea1-2937e7f83bab",
   "metadata": {},
   "outputs": [],
   "source": [
    "topic = 'tp2'\n",
    "\n",
    "def create_producer(bootstrap_servers='localhost:9092', value_serializer=lambda x: json.dumps(x).encode(\"utf-8\")):\n",
    "    producer = KafkaProducer(bootstrap_servers=bootstrap_servers, value_serializer=value_serializer)\n",
    "    # 쿼리를 만들어서 토픽에 실어서 보낸다\n",
    "    sql = []\n",
    "    sql.append(\"insert into tbl_kafka_data1 values('lee2', 'lee@gmail.com','010-0000-0000');\")\n",
    "    sql.append(\"insert into tbl_kafka_data1 values('hong3', 'hong@gmail.com','010-0001-0000');\")\n",
    "    sql.append(\"insert into tbl_kafka_data1 values('kang4', 'kang@gmail.com','010-0002-0000');\")\n",
    "    for data in sql:\n",
    "        producer.send(topic, value=data)\n",
    "        producer.flush()"
   ]
  },
  {
   "cell_type": "code",
   "execution_count": 85,
   "id": "79db836f-b978-4479-a336-e841e6f8a94a",
   "metadata": {},
   "outputs": [],
   "source": [
    "def create_consumer(topics, bootstrap_servers='localhost:9092', auto_offset_reset='earliest', consumer_timeout_ms=1000):\n",
    "    consumer = KafkaConsumer(topics, bootstrap_servers=bootstrap_servers, \n",
    "                             auto_offset_reset=auto_offset_reset, consumer_timeout_ms=consumer_timeout_ms, enable_auto_commit=False,\n",
    "                             group_id='test_group')\n",
    "    mysql_con = pymysql.connect(\n",
    "            host='localhost',\n",
    "            user='root',\n",
    "            password='password',\n",
    "            db='hadoopguide',\n",
    "            charset='utf8')\n",
    "    # mysql connect\n",
    "    with mysql_con.cursor() as cursor:\n",
    "        create_table_sql = \"\"\"\n",
    "            CREATE TABLE IF NOT EXISTS tbl_kafka_data1(\n",
    "            name varchar(10),\n",
    "            email varchar(50),\n",
    "            phone varchar(50))\n",
    "            \"\"\"\n",
    "        cursor.execute(create_table_sql)\n",
    "        try:\n",
    "            for message in consumer:\n",
    "                sql = message.value.decode('utf-8')  # 메시지 디코딩\n",
    "                sql = sql.strip('\"')\n",
    "                print(f\"Topic: {message.topic}, Partition: {message.partition}, Offset: {message.offset}, Key: {message.key}, Value: {message.value}\")\n",
    "                try:\n",
    "                    cursor.execute(sql)  # 카프카의 메시지를 컨슈머가 SQL에 넣음\n",
    "                    mysql_con.commit()  # 여기서 커밋\n",
    "                    consumer.commit() #이는 컨슈머 그룹 내의 컨슈머가 다시 시작되거나 장애가 발생했을 때,마지막으로 커밋된 오프셋부터 메시지 처리를 재개할 수 있도록 합니다.\n",
    "                except pymysql.MySQLError as e:\n",
    "                    print(f\"SQL 실행 오류: {e}\")\n",
    "        finally:\n",
    "            mysql_con.close()  # MySQL 연결 종료\n",
    "            consumer.close()  # 컨슈머 종료"
   ]
  },
  {
   "cell_type": "code",
   "execution_count": 88,
   "id": "fea6c83c-ce05-4dc2-94b2-5daa411be88a",
   "metadata": {},
   "outputs": [
    {
     "name": "stdout",
     "output_type": "stream",
     "text": [
      "Topic: tp2, Partition: 0, Offset: 57, Key: None, Value: b'\"insert into tbl_kafka_data1 values(\\'lee2\\', \\'lee@gmail.com\\',\\'010-0000-0000\\');\"'\n",
      "Topic: tp2, Partition: 0, Offset: 58, Key: None, Value: b'\"insert into tbl_kafka_data1 values(\\'hong3\\', \\'hong@gmail.com\\',\\'010-0001-0000\\');\"'\n",
      "Topic: tp2, Partition: 0, Offset: 59, Key: None, Value: b'\"insert into tbl_kafka_data1 values(\\'kang4\\', \\'kang@gmail.com\\',\\'010-0002-0000\\');\"'\n"
     ]
    }
   ],
   "source": [
    "create_producer()\n",
    "create_consumer('tp2')"
   ]
  },
  {
   "cell_type": "code",
   "execution_count": 87,
   "id": "fbd01e75-f3b9-4bc6-ba5e-42cd8f2dbe7d",
   "metadata": {},
   "outputs": [
    {
     "ename": "NameError",
     "evalue": "name 'consumer' is not defined",
     "output_type": "error",
     "traceback": [
      "\u001b[0;31m---------------------------------------------------------------------------\u001b[0m",
      "\u001b[0;31mNameError\u001b[0m                                 Traceback (most recent call last)",
      "Cell \u001b[0;32mIn[87], line 1\u001b[0m\n\u001b[0;32m----> 1\u001b[0m \u001b[43mconsumer\u001b[49m\n",
      "\u001b[0;31mNameError\u001b[0m: name 'consumer' is not defined"
     ]
    }
   ],
   "source": [
    "consumer"
   ]
  },
  {
   "cell_type": "code",
   "execution_count": 36,
   "id": "0a073da8-0c2b-4997-85bf-ffa72071c18b",
   "metadata": {},
   "outputs": [
    {
     "data": {
      "text/plain": [
       "<bound method SparkSession.sql of <pyspark.sql.session.SparkSession object at 0x7f011cb9b820>>"
      ]
     },
     "execution_count": 36,
     "metadata": {},
     "output_type": "execute_result"
    }
   ],
   "source": [
    "sql"
   ]
  },
  {
   "cell_type": "code",
   "execution_count": null,
   "id": "12e3fe62-fd91-47a8-a119-270020adda94",
   "metadata": {},
   "outputs": [],
   "source": []
  }
 ],
 "metadata": {
  "kernelspec": {
   "display_name": "Python 3 (ipykernel)",
   "language": "python",
   "name": "python3"
  },
  "language_info": {
   "codemirror_mode": {
    "name": "ipython",
    "version": 3
   },
   "file_extension": ".py",
   "mimetype": "text/x-python",
   "name": "python",
   "nbconvert_exporter": "python",
   "pygments_lexer": "ipython3",
   "version": "3.9.10"
  }
 },
 "nbformat": 4,
 "nbformat_minor": 5
}
