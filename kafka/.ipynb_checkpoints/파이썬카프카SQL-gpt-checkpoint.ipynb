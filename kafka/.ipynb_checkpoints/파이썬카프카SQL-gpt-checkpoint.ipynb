{
 "cells": [
  {
   "cell_type": "code",
   "execution_count": 10,
   "id": "90ce3a69-0659-438a-9cb0-cc84b20ab91f",
   "metadata": {},
   "outputs": [
    {
     "name": "stdout",
     "output_type": "stream",
     "text": [
      "Collecting cryptography\n",
      "  Downloading cryptography-42.0.5-cp39-abi3-manylinux_2_28_x86_64.whl (4.6 MB)\n",
      "\u001b[K     |████████████████████████████████| 4.6 MB 136 kB/s eta 0:00:01     |████████████████████            | 2.9 MB 1.3 MB/s eta 0:00:02     |██████████████████████          | 3.1 MB 1.3 MB/s eta 0:00:02\n",
      "\u001b[?25hRequirement already satisfied: cffi>=1.12 in /usr/local/lib64/python3.9/site-packages (from cryptography) (1.16.0)\n",
      "Requirement already satisfied: pycparser in /usr/local/lib/python3.9/site-packages (from cffi>=1.12->cryptography) (2.21)\n",
      "Installing collected packages: cryptography\n",
      "Successfully installed cryptography-42.0.5\n",
      "\u001b[33mWARNING: Running pip as the 'root' user can result in broken permissions and conflicting behaviour with the system package manager. It is recommended to use a virtual environment instead: https://pip.pypa.io/warnings/venv\u001b[0m\n",
      "\u001b[33mWARNING: You are using pip version 21.2.3; however, version 24.0 is available.\n",
      "You should consider upgrading via the '/usr/bin/python3 -m pip install --upgrade pip' command.\u001b[0m\n",
      "Note: you may need to restart the kernel to use updated packages.\n"
     ]
    }
   ],
   "source": [
    "pip install cryptography"
   ]
  },
  {
   "cell_type": "code",
   "execution_count": 1,
   "id": "28f08159-03d7-4d99-a4a0-99f433744bd7",
   "metadata": {},
   "outputs": [],
   "source": [
    "from kafka import KafkaProducer\n",
    "from json import dumps\n",
    "import time\n",
    "from kafka import KafkaConsumer\n",
    "from json import loads\n",
    "import pymysql\n",
    "import cryptography"
   ]
  },
  {
   "cell_type": "code",
   "execution_count": 2,
   "id": "4c4d110c-3e1a-4655-a6ca-bdd23e5319ea",
   "metadata": {},
   "outputs": [],
   "source": [
    "# 프로듀서 생성 \n",
    "producer = KafkaProducer(acks=0, bootstrap_servers=['localhost:9092'],\n",
    "                         value_serializer=lambda x: dumps(x).encode('utf-8'))\n",
    "sql = {\n",
    "        \"create\" : '''create table tbl_kafka(\n",
    "                        id varchar(10),\n",
    "                        name varchar(50),\n",
    "                        phone varchar(50)\n",
    "        )''',\n",
    "        \"insert1\":\"insert into tbl_test values('a','b','c')\",\n",
    "        \"insert2\":\"insert into tbl_test values('a2','b2','c2')\"\n",
    "}\n",
    "producer.send('test2', value=sql)\n",
    "producer.flush()"
   ]
  },
  {
   "cell_type": "code",
   "execution_count": 3,
   "id": "d16f8b02-09b6-4765-a152-200721a6af3b",
   "metadata": {},
   "outputs": [],
   "source": [
    "# MySQL 데이터베이스 연결 설정\n",
    "connection = pymysql.connect(\n",
    "        host = 'localhost',\n",
    "        user = 'root',\n",
    "        password = 'password',\n",
    "        db = 'hadoopguide',\n",
    "        charset = 'utf8',\n",
    "        cursorclass=pymysql.cursors.DictCursor)"
   ]
  },
  {
   "cell_type": "code",
   "execution_count": null,
   "id": "e430cbf5-0013-48a4-ac6e-03fbb60a0ac2",
   "metadata": {},
   "outputs": [],
   "source": [
    "# topic, broker listesadfasdfasdfasdf\n",
    "consumer = KafkaConsumer(\n",
    "    'test2',\n",
    "     bootstrap_servers=['localhost:9092'],\n",
    "     auto_offset_reset='earliest',\n",
    "     enable_auto_commit=True,\n",
    "     group_id='my-group',\n",
    "     value_deserializer=lambda x: loads(x.decode('utf-8')),\n",
    "     consumer_timeout_ms=1000\n",
    ")\n",
    "# consumer list를 가져온다e\n",
    "print('[begin] get consumer list')\n",
    "for message in consumer:\n",
    "    print(f\"Topic: {message.topic}, Group_id: {group_id}, Partition: {message.partition}, Offset: {message.offset}, Key: {message.key}, Value: {message.value}\")\n",
    "print('[end] consumer list')\n",
    "\n",
    "\n",
    "try:\n",
    "    with connection.cursor() as cursor:\n",
    "        # Kafka 메시지 소비\n",
    "        for message in consumer:\n",
    "            data = message.value\n",
    "            print(f\"Received message: {data}\")\n",
    "\n",
    "            # MySQL에 데이터 삽입\n",
    "            sql = \"INSERT INTO `your_table_name` (`id`, `message`) VALUES (%s, %s)\"\n",
    "            cursor.execute(sql, (data['id'], data['message']))\n",
    "            connection.commit()\n",
    "\n",
    "finally:\n",
    "    connection.close()\n",
    "    consumer.close()"
   ]
  }
 ],
 "metadata": {
  "kernelspec": {
   "display_name": "Python 3 (ipykernel)",
   "language": "python",
   "name": "python3"
  },
  "language_info": {
   "codemirror_mode": {
    "name": "ipython",
    "version": 3
   },
   "file_extension": ".py",
   "mimetype": "text/x-python",
   "name": "python",
   "nbconvert_exporter": "python",
   "pygments_lexer": "ipython3",
   "version": "3.9.10"
  }
 },
 "nbformat": 4,
 "nbformat_minor": 5
}
