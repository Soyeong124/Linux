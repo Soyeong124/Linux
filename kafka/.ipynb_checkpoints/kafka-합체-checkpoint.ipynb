{
 "cells": [
  {
   "cell_type": "code",
   "execution_count": 1,
   "id": "7c9aeb69-e77a-4f20-9891-7f0b14df900d",
   "metadata": {},
   "outputs": [
    {
     "name": "stdout",
     "output_type": "stream",
     "text": [
      "Requirement already satisfied: kafka-python in /usr/local/lib/python3.9/site-packages (2.0.2)\n",
      "\u001b[33mWARNING: Running pip as the 'root' user can result in broken permissions and conflicting behaviour with the system package manager. It is recommended to use a virtual environment instead: https://pip.pypa.io/warnings/venv\u001b[0m\n",
      "\u001b[33mWARNING: You are using pip version 21.2.3; however, version 24.0 is available.\n",
      "You should consider upgrading via the '/usr/bin/python3 -m pip install --upgrade pip' command.\u001b[0m\n"
     ]
    }
   ],
   "source": [
    "!pip3 install kafka-python"
   ]
  },
  {
   "cell_type": "code",
   "execution_count": 2,
   "id": "15d8cb4a-4fca-4057-ab8e-69c018b04196",
   "metadata": {},
   "outputs": [],
   "source": [
    "from kafka import KafkaProducer, KafkaConsumer\n",
    "from kafka.admin import KafkaAdminClient, NewTopic\n",
    "import json"
   ]
  },
  {
   "cell_type": "code",
   "execution_count": 3,
   "id": "7ed9de1b-dd5a-4374-9dcf-3f32ea61daaa",
   "metadata": {},
   "outputs": [],
   "source": [
    "def read_dta_from_file(file_path):\n",
    "    with open(file_path, \"r\") as file:\n",
    "        data = json.load(file)\n",
    "    return data"
   ]
  },
  {
   "cell_type": "code",
   "execution_count": 16,
   "id": "70a467c9-bbc8-42a7-995c-e0503db9a4a3",
   "metadata": {},
   "outputs": [],
   "source": [
    "def create_topics(topics, bootstrap_servers = 'localhost:9092'):\n",
    "    admin_client = KafkaAdminClient(bootstrap_servers=bootstrap_servers)\n",
    "    topic_list = [ NewTopic(topic,num_partitions=1, replication_factor=1) for topic in topics ]\n",
    "    admin_client.create_topics(new_topics=topic_list, validate_only=False)"
   ]
  },
  {
   "cell_type": "code",
   "execution_count": 18,
   "id": "f857295a-fb6e-45a2-ae3c-20b02bbb854c",
   "metadata": {},
   "outputs": [],
   "source": [
    "def producer_to_topics(data, topics, bootstrap_servers = 'localhost:9092'):\n",
    "    producer = KafkaProducer(bootstrap_servers=bootstrap_servers, value_serializer = lambda x : json.dumps(x).encode(\"utf-8\"))\n",
    "    for topic in topics:\n",
    "        producer.send(topic, value=data.get(topic))\n",
    "    producer.flush()"
   ]
  },
  {
   "cell_type": "code",
   "execution_count": 21,
   "id": "b0c82439-48e4-47d1-9370-7a41b540a85a",
   "metadata": {},
   "outputs": [],
   "source": [
    "def consumer_from_topics(topics, bootstrap_servers = 'localhost:9092'):\n",
    "    consumer = KafkaConsumer(bootstrap_servers=bootstrap_servers, auto_offset_reset = \"earliest\",\n",
    "               value_deserializer = lambda x: json.loads(x.decode(\"utf-8\")))\n",
    "    consumer.subscribe(topics)\n",
    "    for data in consumer:\n",
    "        print(f'Topic : {data.topic}, Partition : {data.partition}, Offset : {data.offset}, Key : {data.key}, value : {data.value}')"
   ]
  },
  {
   "cell_type": "code",
   "execution_count": null,
   "id": "bdf34433-f7b4-4367-8f7c-8b605ef15e96",
   "metadata": {},
   "outputs": [
    {
     "name": "stdout",
     "output_type": "stream",
     "text": [
      "Topic : p1, Partition : 0, Offset : 0, Key : None, value : [{'id': 1, 'name': 'Alice'}, {'id': 2, 'name': 'Bob'}, {'id': 3, 'name': 'Charlie'}]\n",
      "Topic : p1, Partition : 0, Offset : 1, Key : None, value : [{'id': 1, 'name': 'Alice'}, {'id': 2, 'name': 'Bob'}, {'id': 3, 'name': 'Charlie'}]\n",
      "Topic : p3, Partition : 0, Offset : 0, Key : None, value : [{'id': 7, 'name': 'Grace'}, {'id': 8, 'name': 'Henry'}, {'id': 9, 'name': 'Ivy'}]\n",
      "Topic : p3, Partition : 0, Offset : 1, Key : None, value : [{'id': 7, 'name': 'Grace'}, {'id': 8, 'name': 'Henry'}, {'id': 9, 'name': 'Ivy'}]\n",
      "Topic : p2, Partition : 0, Offset : 0, Key : None, value : [{'id': 4, 'name': 'David'}, {'id': 5, 'name': 'Emma'}, {'id': 6, 'name': 'Frank'}]\n",
      "Topic : p2, Partition : 0, Offset : 1, Key : None, value : [{'id': 4, 'name': 'David'}, {'id': 5, 'name': 'Emma'}, {'id': 6, 'name': 'Frank'}]\n"
     ]
    }
   ],
   "source": [
    "file_path = 'data.json'\n",
    "topics = ['p1','p2','p3']\n",
    "data = read_dta_from_file(file_path)\n",
    "\n",
    "#토픽 생성\n",
    "# create_topics(topics)\n",
    "\n",
    "producer_to_topics(data, topics)\n",
    "consumer_from_topics(topics)"
   ]
  },
  {
   "cell_type": "code",
   "execution_count": 9,
   "id": "1ec36a6f-cee2-4214-bcf0-d18bc7812b44",
   "metadata": {},
   "outputs": [
    {
     "ename": "SyntaxError",
     "evalue": "invalid syntax (1181555868.py, line 1)",
     "output_type": "error",
     "traceback": [
      "\u001b[0;36m  Cell \u001b[0;32mIn[9], line 1\u001b[0;36m\u001b[0m\n\u001b[0;31m    chmod 755 data.json\u001b[0m\n\u001b[0m          ^\u001b[0m\n\u001b[0;31mSyntaxError\u001b[0m\u001b[0;31m:\u001b[0m invalid syntax\n"
     ]
    }
   ],
   "source": [
    "chmod 755 data.json"
   ]
  },
  {
   "cell_type": "code",
   "execution_count": null,
   "id": "bd37428d-71d5-48a7-9d68-11bb31113736",
   "metadata": {},
   "outputs": [],
   "source": []
  }
 ],
 "metadata": {
  "jupytext": {
   "formats": "ipynb,auto:percent"
  },
  "kernelspec": {
   "display_name": "Python 3 (ipykernel)",
   "language": "python",
   "name": "python3"
  },
  "language_info": {
   "codemirror_mode": {
    "name": "ipython",
    "version": 3
   },
   "file_extension": ".py",
   "mimetype": "text/x-python",
   "name": "python",
   "nbconvert_exporter": "python",
   "pygments_lexer": "ipython3",
   "version": "3.9.10"
  }
 },
 "nbformat": 4,
 "nbformat_minor": 5
}
