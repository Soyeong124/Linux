{
 "cells": [
  {
   "cell_type": "code",
   "execution_count": 1,
   "id": "b09ce281-bd21-40d3-aef9-cda7c99ea528",
   "metadata": {},
   "outputs": [],
   "source": [
    "from kafka import KafkaProducer, KafkaConsumer\n",
    "import numpy as np\n",
    "import os\n",
    "import json\n",
    "from time import time, sleep\n",
    "import random"
   ]
  },
  {
   "cell_type": "markdown",
   "id": "202f1314-81bc-4d5b-bd86-fb3b69265807",
   "metadata": {},
   "source": [
    "# 토픽2로 랜덤 단어 보내는 프로시저"
   ]
  },
  {
   "cell_type": "code",
   "execution_count": 3,
   "id": "e3d1eded-06b4-4bae-8190-5981564d8ee4",
   "metadata": {},
   "outputs": [
    {
     "name": "stdout",
     "output_type": "stream",
     "text": [
      "topic2 producer -------------------\n",
      "topic2 producer -------------------\n",
      "topic2 producer -------------------\n",
      "topic2 producer -------------------\n",
      "topic2 producer -------------------\n",
      "topic2 producer -------------------\n",
      "topic2 producer -------------------\n",
      "topic2 producer -------------------\n",
      "topic2 producer -------------------\n",
      "topic2 producer -------------------\n",
      "topic2 producer -------------------\n",
      "topic2 producer -------------------\n",
      "topic2 producer -------------------\n",
      "topic2 producer -------------------\n",
      "topic2 producer -------------------\n",
      "topic2 producer -------------------\n",
      "topic2 producer -------------------\n"
     ]
    },
    {
     "ename": "KeyboardInterrupt",
     "evalue": "",
     "output_type": "error",
     "traceback": [
      "\u001b[0;31m---------------------------------------------------------------------------\u001b[0m",
      "\u001b[0;31mKeyboardInterrupt\u001b[0m                         Traceback (most recent call last)",
      "Cell \u001b[0;32mIn[3], line 10\u001b[0m\n\u001b[1;32m      8\u001b[0m index \u001b[38;5;241m=\u001b[39m random\u001b[38;5;241m.\u001b[39mrandint(\u001b[38;5;241m0\u001b[39m,\u001b[38;5;28mlen\u001b[39m(words)\u001b[38;5;241m-\u001b[39m\u001b[38;5;241m1\u001b[39m)\n\u001b[1;32m      9\u001b[0m producer\u001b[38;5;241m.\u001b[39msend(\u001b[38;5;124m\"\u001b[39m\u001b[38;5;124mtopic2\u001b[39m\u001b[38;5;124m\"\u001b[39m, value\u001b[38;5;241m=\u001b[39mwords[index])\n\u001b[0;32m---> 10\u001b[0m \u001b[43msleep\u001b[49m\u001b[43m(\u001b[49m\u001b[38;5;241;43m1\u001b[39;49m\u001b[43m)\u001b[49m\n\u001b[1;32m     11\u001b[0m count \u001b[38;5;241m+\u001b[39m\u001b[38;5;241m=\u001b[39m \u001b[38;5;241m1\u001b[39m\n\u001b[1;32m     12\u001b[0m \u001b[38;5;28;01mif\u001b[39;00m count \u001b[38;5;241m%\u001b[39m \u001b[38;5;241m5\u001b[39m \u001b[38;5;241m==\u001b[39m \u001b[38;5;241m0\u001b[39m :\n",
      "\u001b[0;31mKeyboardInterrupt\u001b[0m: "
     ]
    }
   ],
   "source": [
    "with open('/root/kafka-2.12/data.txt','r', encoding='utf-8') as f:\n",
    "    words = f.read().splitlines()\n",
    "\n",
    "#프로듀서 생성\n",
    "producer = KafkaProducer(bootstrap_servers='localhost:9092', value_serializer=lambda x: json.dumps(x).encode(\"utf-8\"))\n",
    "count = 0\n",
    "while True:\n",
    "    index = random.randint(0,len(words)-1)\n",
    "    producer.send(\"topic2\", value=words[index])\n",
    "    sleep(1)\n",
    "    count += 1\n",
    "    if count % 5 == 0 :\n",
    "        print(\"topic2 producer -------------------\")"
   ]
  },
  {
   "cell_type": "code",
   "execution_count": 9,
   "id": "58639823-56a6-4f0e-9bac-f966234d9a0d",
   "metadata": {},
   "outputs": [],
   "source": []
  },
  {
   "cell_type": "code",
   "execution_count": null,
   "id": "8d11c726-f14e-4ca2-b891-e7f2c23a8125",
   "metadata": {},
   "outputs": [],
   "source": []
  }
 ],
 "metadata": {
  "kernelspec": {
   "display_name": "Python 3 (ipykernel)",
   "language": "python",
   "name": "python3"
  },
  "language_info": {
   "codemirror_mode": {
    "name": "ipython",
    "version": 3
   },
   "file_extension": ".py",
   "mimetype": "text/x-python",
   "name": "python",
   "nbconvert_exporter": "python",
   "pygments_lexer": "ipython3",
   "version": "3.9.10"
  }
 },
 "nbformat": 4,
 "nbformat_minor": 5
}
