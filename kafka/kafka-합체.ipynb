{
 "cells": [
  {
   "cell_type": "code",
   "execution_count": 1,
   "id": "7c9aeb69-e77a-4f20-9891-7f0b14df900d",
   "metadata": {},
   "outputs": [
    {
     "name": "stdout",
     "output_type": "stream",
     "text": [
      "Requirement already satisfied: kafka-python in /usr/local/lib/python3.9/site-packages (2.0.2)\n",
      "\u001b[33mWARNING: Running pip as the 'root' user can result in broken permissions and conflicting behaviour with the system package manager. It is recommended to use a virtual environment instead: https://pip.pypa.io/warnings/venv\u001b[0m\n",
      "\u001b[33mWARNING: You are using pip version 21.2.3; however, version 24.0 is available.\n",
      "You should consider upgrading via the '/usr/bin/python3 -m pip install --upgrade pip' command.\u001b[0m\n"
     ]
    }
   ],
   "source": [
    "!pip3 install kafka-python"
   ]
  },
  {
   "cell_type": "code",
   "execution_count": 84,
   "id": "15d8cb4a-4fca-4057-ab8e-69c018b04196",
   "metadata": {},
   "outputs": [],
   "source": [
    "from kafka import KafkaProducer, KafkaConsumer\n",
    "from kafka.admin import KafkaAdminClient, NewTopic\n",
    "import json"
   ]
  },
  {
   "cell_type": "code",
   "execution_count": 85,
   "id": "7ed9de1b-dd5a-4374-9dcf-3f32ea61daaa",
   "metadata": {},
   "outputs": [],
   "source": [
    "def read_dta_from_file(file_path):\n",
    "    with open(file_path, \"r\") as file:\n",
    "        data = json.load(file)\n",
    "    return data"
   ]
  },
  {
   "cell_type": "code",
   "execution_count": 86,
   "id": "70a467c9-bbc8-42a7-995c-e0503db9a4a3",
   "metadata": {},
   "outputs": [],
   "source": [
    "def create_topics(topics, bootstrap_servers = 'localhost:9092'):\n",
    "    admin_client = KafkaAdminClient(bootstrap_servers=bootstrap_servers)\n",
    "    topic_list = [ NewTopic(topic,num_partitions=1, replication_factor=1) for topic in topics ]\n",
    "    admin_client.create_topics(new_topics=topic_list, validate_only=False)"
   ]
  },
  {
   "cell_type": "code",
   "execution_count": 87,
   "id": "f857295a-fb6e-45a2-ae3c-20b02bbb854c",
   "metadata": {},
   "outputs": [],
   "source": [
    "def producer_to_topics(data, topics, bootstrap_servers = 'localhost:9092'):\n",
    "    producer = KafkaProducer(bootstrap_servers=bootstrap_servers, value_serializer = lambda x : json.dumps(x).encode(\"utf-8\"))\n",
    "    for topic in topics:\n",
    "        producer.send(topic, value=data.get(topic))\n",
    "    producer.flush()"
   ]
  },
  {
   "cell_type": "code",
   "execution_count": 113,
   "id": "b0c82439-48e4-47d1-9370-7a41b540a85a",
   "metadata": {},
   "outputs": [],
   "source": [
    "import uuid\n",
    "\n",
    "def consumer_from_topics(topics, bootstrap_servers='localhost:9092'):\n",
    "    # 고유한 컨슈머 그룹 ID 생성\n",
    "    # group_id = f\"consumer-group-{uuid.uuid4()}\"\n",
    "    \n",
    "    consumer = KafkaConsumer(\n",
    "        *topics,\n",
    "        bootstrap_servers=bootstrap_servers,\n",
    "        auto_offset_reset='earliest',\n",
    "        # group_id=group_id,\n",
    "        value_deserializer=lambda x: json.loads(x.decode('utf-8'))\n",
    "    )\n",
    "\n",
    "    for message in consumer:\n",
    "        print(f\"Topic: {message.topic}, Group_id: {group_id}, Partition: {message.partition}, Offset: {message.offset}, Key: {message.key}, Value: {message.value}\")"
   ]
  },
  {
   "cell_type": "code",
   "execution_count": 114,
   "id": "bdf34433-f7b4-4367-8f7c-8b605ef15e96",
   "metadata": {
    "scrolled": true
   },
   "outputs": [
    {
     "name": "stdout",
     "output_type": "stream",
     "text": [
      "Topic: p3, Group_id: test1, Partition: 0, Offset: 0, Key: None, Value: [{'id': 7, 'name': 'Grace'}, {'id': 8, 'name': 'Henry'}, {'id': 9, 'name': 'Ivy'}]\n",
      "Topic: p3, Group_id: test1, Partition: 0, Offset: 1, Key: None, Value: [{'id': 7, 'name': 'Grace'}, {'id': 8, 'name': 'Henry'}, {'id': 9, 'name': 'Ivy'}]\n",
      "Topic: p3, Group_id: test1, Partition: 0, Offset: 2, Key: None, Value: [{'id': 7, 'name': 'Grace'}, {'id': 8, 'name': 'Henry'}, {'id': 9, 'name': 'Ivy'}]\n",
      "Topic: p3, Group_id: test1, Partition: 0, Offset: 3, Key: None, Value: [{'id': 7, 'name': 'Grace'}, {'id': 8, 'name': 'Henry'}, {'id': 9, 'name': 'Ivy'}]\n",
      "Topic: p3, Group_id: test1, Partition: 0, Offset: 4, Key: None, Value: [{'id': 7, 'name': 'Grace'}, {'id': 8, 'name': 'Henry'}, {'id': 9, 'name': 'Ivy'}]\n",
      "Topic: p3, Group_id: test1, Partition: 0, Offset: 5, Key: None, Value: [{'id': 7, 'name': 'Grace'}, {'id': 8, 'name': 'Henry'}, {'id': 9, 'name': 'Ivy'}]\n",
      "Topic: p3, Group_id: test1, Partition: 0, Offset: 6, Key: None, Value: [{'id': 7, 'name': 'Grace'}, {'id': 8, 'name': 'Henry'}, {'id': 9, 'name': 'Ivy'}]\n",
      "Topic: p3, Group_id: test1, Partition: 0, Offset: 7, Key: None, Value: [{'id': 7, 'name': 'Grace'}, {'id': 8, 'name': 'Henry'}, {'id': 9, 'name': 'Ivy'}]\n",
      "Topic: p3, Group_id: test1, Partition: 0, Offset: 8, Key: None, Value: [{'id': 7, 'name': 'Grace'}, {'id': 8, 'name': 'Henry'}, {'id': 9, 'name': 'Ivy'}]\n",
      "Topic: p3, Group_id: test1, Partition: 0, Offset: 9, Key: None, Value: [{'id': 7, 'name': 'Grace'}, {'id': 8, 'name': 'Henry'}, {'id': 9, 'name': 'Ivy'}]\n",
      "Topic: p3, Group_id: test1, Partition: 0, Offset: 10, Key: None, Value: [{'id': 7, 'name': 'Grace'}, {'id': 8, 'name': 'Henry'}, {'id': 9, 'name': 'Ivy'}]\n",
      "Topic: p3, Group_id: test1, Partition: 0, Offset: 11, Key: None, Value: [{'id': 7, 'name': 'Grace'}, {'id': 8, 'name': 'Henry'}, {'id': 9, 'name': 'Ivy'}]\n",
      "Topic: p3, Group_id: test1, Partition: 0, Offset: 12, Key: None, Value: [{'id': 7, 'name': 'Grace'}, {'id': 8, 'name': 'Henry'}, {'id': 9, 'name': 'Ivy'}]\n",
      "Topic: p3, Group_id: test1, Partition: 0, Offset: 13, Key: None, Value: [{'id': 7, 'name': 'Grace'}, {'id': 8, 'name': 'Henry'}, {'id': 9, 'name': 'Ivy'}]\n",
      "Topic: p3, Group_id: test1, Partition: 0, Offset: 14, Key: None, Value: [{'id': 7, 'name': 'Grace'}, {'id': 8, 'name': 'Henry'}, {'id': 9, 'name': 'Ivy'}]\n",
      "Topic: p3, Group_id: test1, Partition: 0, Offset: 15, Key: None, Value: [{'id': 7, 'name': 'Grace'}, {'id': 8, 'name': 'Henry'}, {'id': 9, 'name': 'Ivy'}]\n",
      "Topic: p3, Group_id: test1, Partition: 0, Offset: 16, Key: None, Value: [{'id': 7, 'name': 'Grace'}, {'id': 8, 'name': 'Henry'}, {'id': 9, 'name': 'Ivy'}]\n",
      "Topic: p3, Group_id: test1, Partition: 0, Offset: 17, Key: None, Value: [{'id': 7, 'name': 'Grace'}, {'id': 8, 'name': 'Henry'}, {'id': 9, 'name': 'Ivy'}]\n",
      "Topic: p3, Group_id: test1, Partition: 0, Offset: 18, Key: None, Value: [{'id': 7, 'name': 'Grace'}, {'id': 8, 'name': 'Henry'}, {'id': 9, 'name': 'Ivy'}]\n",
      "Topic: p3, Group_id: test1, Partition: 0, Offset: 19, Key: None, Value: [{'id': 7, 'name': 'Grace'}, {'id': 8, 'name': 'Henry'}, {'id': 9, 'name': 'Ivy'}]\n",
      "Topic: p3, Group_id: test1, Partition: 0, Offset: 20, Key: None, Value: [{'id': 7, 'name': 'Grace'}, {'id': 8, 'name': 'Henry'}, {'id': 9, 'name': 'Ivy'}]\n",
      "Topic: p3, Group_id: test1, Partition: 0, Offset: 21, Key: None, Value: [{'id': 7, 'name': 'Grace'}, {'id': 8, 'name': 'Henry'}, {'id': 9, 'name': 'Ivy'}]\n",
      "Topic: p3, Group_id: test1, Partition: 0, Offset: 22, Key: None, Value: [{'id': 7, 'name': 'Grace'}, {'id': 8, 'name': 'Henry'}, {'id': 9, 'name': 'Ivy'}]\n",
      "Topic: p3, Group_id: test1, Partition: 0, Offset: 23, Key: None, Value: [{'id': 7, 'name': 'Grace'}, {'id': 8, 'name': 'Henry'}, {'id': 9, 'name': 'Ivy'}]\n",
      "Topic: p3, Group_id: test1, Partition: 0, Offset: 24, Key: None, Value: [{'id': 7, 'name': 'Grace'}, {'id': 8, 'name': 'Henry'}, {'id': 9, 'name': 'Ivy'}]\n",
      "Topic: p3, Group_id: test1, Partition: 0, Offset: 25, Key: None, Value: [{'id': 7, 'name': 'Grace'}, {'id': 8, 'name': 'Henry'}, {'id': 9, 'name': 'Ivy'}]\n",
      "Topic: p3, Group_id: test1, Partition: 0, Offset: 26, Key: None, Value: [{'id': 7, 'name': 'Grace'}, {'id': 8, 'name': 'Henry'}, {'id': 9, 'name': 'Ivy'}]\n",
      "Topic: p3, Group_id: test1, Partition: 0, Offset: 27, Key: None, Value: [{'id': 7, 'name': 'Grace'}, {'id': 8, 'name': 'Henry'}, {'id': 9, 'name': 'Ivy'}]\n",
      "Topic: p3, Group_id: test1, Partition: 0, Offset: 28, Key: None, Value: [{'id': 7, 'name': 'Grace'}, {'id': 8, 'name': 'Henry'}, {'id': 9, 'name': 'Ivy'}]\n",
      "Topic: p3, Group_id: test1, Partition: 0, Offset: 29, Key: None, Value: [{'id': 7, 'name': 'Grace'}, {'id': 8, 'name': 'Henry'}, {'id': 9, 'name': 'Ivy'}]\n",
      "Topic: p3, Group_id: test1, Partition: 0, Offset: 30, Key: None, Value: [{'id': 7, 'name': 'Grace'}, {'id': 8, 'name': 'Henry'}, {'id': 9, 'name': 'Ivy'}]\n",
      "Topic: p3, Group_id: test1, Partition: 0, Offset: 31, Key: None, Value: [{'id': 7, 'name': 'Grace'}, {'id': 8, 'name': 'Henry'}, {'id': 9, 'name': 'Ivy'}]\n",
      "Topic: p3, Group_id: test1, Partition: 0, Offset: 32, Key: None, Value: [{'id': 7, 'name': 'Grace'}, {'id': 8, 'name': 'Henry'}, {'id': 9, 'name': 'Ivy'}]\n",
      "Topic: p3, Group_id: test1, Partition: 0, Offset: 33, Key: None, Value: [{'id': 7, 'name': 'Grace'}, {'id': 8, 'name': 'Henry'}, {'id': 9, 'name': 'Ivy'}]\n",
      "Topic: p3, Group_id: test1, Partition: 0, Offset: 34, Key: None, Value: [{'id': 17, 'name': 'Grace1'}, {'id': 18, 'name': 'Henry1'}, {'id': 19, 'name': 'Ivy1'}]\n",
      "Topic: p3, Group_id: test1, Partition: 0, Offset: 35, Key: None, Value: [{'id': 17, 'name': 'Grace1'}, {'id': 18, 'name': 'Henry1'}, {'id': 19, 'name': 'Ivy1'}]\n",
      "Topic: p3, Group_id: test1, Partition: 0, Offset: 36, Key: None, Value: [{'id': 17, 'name': 'Grace1'}, {'id': 18, 'name': 'Henry1'}, {'id': 19, 'name': 'Ivy1'}]\n",
      "Topic: p3, Group_id: test1, Partition: 0, Offset: 37, Key: None, Value: [{'id': 17, 'name': 'Grace1'}, {'id': 18, 'name': 'Henry1'}, {'id': 19, 'name': 'Ivy1'}]\n",
      "Topic: p3, Group_id: test1, Partition: 0, Offset: 38, Key: None, Value: [{'id': 17, 'name': 'Grace1'}, {'id': 18, 'name': 'Henry1'}, {'id': 19, 'name': 'Ivy1'}]\n",
      "Topic: p1, Group_id: test1, Partition: 0, Offset: 0, Key: None, Value: [{'id': 1, 'name': 'Alice'}, {'id': 2, 'name': 'Bob'}, {'id': 3, 'name': 'Charlie'}]\n",
      "Topic: p1, Group_id: test1, Partition: 0, Offset: 1, Key: None, Value: [{'id': 1, 'name': 'Alice'}, {'id': 2, 'name': 'Bob'}, {'id': 3, 'name': 'Charlie'}]\n",
      "Topic: p1, Group_id: test1, Partition: 0, Offset: 2, Key: None, Value: [{'id': 1, 'name': 'Alice'}, {'id': 2, 'name': 'Bob'}, {'id': 3, 'name': 'Charlie'}]\n",
      "Topic: p1, Group_id: test1, Partition: 0, Offset: 3, Key: None, Value: [{'id': 1, 'name': 'Alice'}, {'id': 2, 'name': 'Bob'}, {'id': 3, 'name': 'Charlie'}]\n",
      "Topic: p1, Group_id: test1, Partition: 0, Offset: 4, Key: None, Value: [{'id': 1, 'name': 'Alice'}, {'id': 2, 'name': 'Bob'}, {'id': 3, 'name': 'Charlie'}]\n",
      "Topic: p1, Group_id: test1, Partition: 0, Offset: 5, Key: None, Value: [{'id': 1, 'name': 'Alice'}, {'id': 2, 'name': 'Bob'}, {'id': 3, 'name': 'Charlie'}]\n",
      "Topic: p1, Group_id: test1, Partition: 0, Offset: 6, Key: None, Value: [{'id': 1, 'name': 'Alice'}, {'id': 2, 'name': 'Bob'}, {'id': 3, 'name': 'Charlie'}]\n",
      "Topic: p1, Group_id: test1, Partition: 0, Offset: 7, Key: None, Value: [{'id': 1, 'name': 'Alice'}, {'id': 2, 'name': 'Bob'}, {'id': 3, 'name': 'Charlie'}]\n",
      "Topic: p1, Group_id: test1, Partition: 0, Offset: 8, Key: None, Value: [{'id': 1, 'name': 'Alice'}, {'id': 2, 'name': 'Bob'}, {'id': 3, 'name': 'Charlie'}]\n",
      "Topic: p1, Group_id: test1, Partition: 0, Offset: 9, Key: None, Value: [{'id': 1, 'name': 'Alice'}, {'id': 2, 'name': 'Bob'}, {'id': 3, 'name': 'Charlie'}]\n",
      "Topic: p1, Group_id: test1, Partition: 0, Offset: 10, Key: None, Value: [{'id': 1, 'name': 'Alice'}, {'id': 2, 'name': 'Bob'}, {'id': 3, 'name': 'Charlie'}]\n",
      "Topic: p1, Group_id: test1, Partition: 0, Offset: 11, Key: None, Value: [{'id': 1, 'name': 'Alice'}, {'id': 2, 'name': 'Bob'}, {'id': 3, 'name': 'Charlie'}]\n",
      "Topic: p1, Group_id: test1, Partition: 0, Offset: 12, Key: None, Value: [{'id': 1, 'name': 'Alice'}, {'id': 2, 'name': 'Bob'}, {'id': 3, 'name': 'Charlie'}]\n",
      "Topic: p1, Group_id: test1, Partition: 0, Offset: 13, Key: None, Value: [{'id': 1, 'name': 'Alice'}, {'id': 2, 'name': 'Bob'}, {'id': 3, 'name': 'Charlie'}]\n",
      "Topic: p1, Group_id: test1, Partition: 0, Offset: 14, Key: None, Value: [{'id': 1, 'name': 'Alice'}, {'id': 2, 'name': 'Bob'}, {'id': 3, 'name': 'Charlie'}]\n",
      "Topic: p1, Group_id: test1, Partition: 0, Offset: 15, Key: None, Value: [{'id': 1, 'name': 'Alice'}, {'id': 2, 'name': 'Bob'}, {'id': 3, 'name': 'Charlie'}]\n",
      "Topic: p1, Group_id: test1, Partition: 0, Offset: 16, Key: None, Value: [{'id': 1, 'name': 'Alice'}, {'id': 2, 'name': 'Bob'}, {'id': 3, 'name': 'Charlie'}]\n",
      "Topic: p1, Group_id: test1, Partition: 0, Offset: 17, Key: None, Value: [{'id': 1, 'name': 'Alice'}, {'id': 2, 'name': 'Bob'}, {'id': 3, 'name': 'Charlie'}]\n",
      "Topic: p1, Group_id: test1, Partition: 0, Offset: 18, Key: None, Value: [{'id': 1, 'name': 'Alice'}, {'id': 2, 'name': 'Bob'}, {'id': 3, 'name': 'Charlie'}]\n",
      "Topic: p1, Group_id: test1, Partition: 0, Offset: 19, Key: None, Value: [{'id': 1, 'name': 'Alice'}, {'id': 2, 'name': 'Bob'}, {'id': 3, 'name': 'Charlie'}]\n",
      "Topic: p1, Group_id: test1, Partition: 0, Offset: 20, Key: None, Value: [{'id': 1, 'name': 'Alice'}, {'id': 2, 'name': 'Bob'}, {'id': 3, 'name': 'Charlie'}]\n",
      "Topic: p1, Group_id: test1, Partition: 0, Offset: 21, Key: None, Value: [{'id': 1, 'name': 'Alice'}, {'id': 2, 'name': 'Bob'}, {'id': 3, 'name': 'Charlie'}]\n",
      "Topic: p1, Group_id: test1, Partition: 0, Offset: 22, Key: None, Value: [{'id': 1, 'name': 'Alice'}, {'id': 2, 'name': 'Bob'}, {'id': 3, 'name': 'Charlie'}]\n",
      "Topic: p1, Group_id: test1, Partition: 0, Offset: 23, Key: None, Value: [{'id': 1, 'name': 'Alice'}, {'id': 2, 'name': 'Bob'}, {'id': 3, 'name': 'Charlie'}]\n",
      "Topic: p1, Group_id: test1, Partition: 0, Offset: 24, Key: None, Value: [{'id': 1, 'name': 'Alice'}, {'id': 2, 'name': 'Bob'}, {'id': 3, 'name': 'Charlie'}]\n",
      "Topic: p1, Group_id: test1, Partition: 0, Offset: 25, Key: None, Value: [{'id': 1, 'name': 'Alice'}, {'id': 2, 'name': 'Bob'}, {'id': 3, 'name': 'Charlie'}]\n",
      "Topic: p1, Group_id: test1, Partition: 0, Offset: 26, Key: None, Value: [{'id': 1, 'name': 'Alice'}, {'id': 2, 'name': 'Bob'}, {'id': 3, 'name': 'Charlie'}]\n",
      "Topic: p1, Group_id: test1, Partition: 0, Offset: 27, Key: None, Value: [{'id': 1, 'name': 'Alice'}, {'id': 2, 'name': 'Bob'}, {'id': 3, 'name': 'Charlie'}]\n",
      "Topic: p1, Group_id: test1, Partition: 0, Offset: 28, Key: None, Value: [{'id': 1, 'name': 'Alice'}, {'id': 2, 'name': 'Bob'}, {'id': 3, 'name': 'Charlie'}]\n",
      "Topic: p1, Group_id: test1, Partition: 0, Offset: 29, Key: None, Value: [{'id': 1, 'name': 'Alice'}, {'id': 2, 'name': 'Bob'}, {'id': 3, 'name': 'Charlie'}]\n",
      "Topic: p1, Group_id: test1, Partition: 0, Offset: 30, Key: None, Value: [{'id': 1, 'name': 'Alice'}, {'id': 2, 'name': 'Bob'}, {'id': 3, 'name': 'Charlie'}]\n",
      "Topic: p1, Group_id: test1, Partition: 0, Offset: 31, Key: None, Value: [{'id': 1, 'name': 'Alice'}, {'id': 2, 'name': 'Bob'}, {'id': 3, 'name': 'Charlie'}]\n",
      "Topic: p1, Group_id: test1, Partition: 0, Offset: 32, Key: None, Value: [{'id': 1, 'name': 'Alice'}, {'id': 2, 'name': 'Bob'}, {'id': 3, 'name': 'Charlie'}]\n",
      "Topic: p1, Group_id: test1, Partition: 0, Offset: 33, Key: None, Value: [{'id': 1, 'name': 'Alice'}, {'id': 2, 'name': 'Bob'}, {'id': 3, 'name': 'Charlie'}]\n",
      "Topic: p1, Group_id: test1, Partition: 0, Offset: 34, Key: None, Value: [{'id': 11, 'name': 'Alice1'}, {'id': 12, 'name': 'Bob2'}, {'id': 13, 'name': 'Charlie3'}]\n",
      "Topic: p1, Group_id: test1, Partition: 0, Offset: 35, Key: None, Value: [{'id': 11, 'name': 'Alice1'}, {'id': 12, 'name': 'Bob2'}, {'id': 13, 'name': 'Charlie3'}]\n",
      "Topic: p1, Group_id: test1, Partition: 0, Offset: 36, Key: None, Value: [{'id': 11, 'name': 'Alice1'}, {'id': 12, 'name': 'Bob2'}, {'id': 13, 'name': 'Charlie3'}]\n",
      "Topic: p1, Group_id: test1, Partition: 0, Offset: 37, Key: None, Value: [{'id': 11, 'name': 'Alice1'}, {'id': 12, 'name': 'Bob2'}, {'id': 13, 'name': 'Charlie3'}]\n",
      "Topic: p1, Group_id: test1, Partition: 0, Offset: 38, Key: None, Value: [{'id': 11, 'name': 'Alice1'}, {'id': 12, 'name': 'Bob2'}, {'id': 13, 'name': 'Charlie3'}]\n",
      "Topic: p2, Group_id: test1, Partition: 0, Offset: 0, Key: None, Value: [{'id': 4, 'name': 'David'}, {'id': 5, 'name': 'Emma'}, {'id': 6, 'name': 'Frank'}]\n",
      "Topic: p2, Group_id: test1, Partition: 0, Offset: 1, Key: None, Value: [{'id': 4, 'name': 'David'}, {'id': 5, 'name': 'Emma'}, {'id': 6, 'name': 'Frank'}]\n",
      "Topic: p2, Group_id: test1, Partition: 0, Offset: 2, Key: None, Value: [{'id': 4, 'name': 'David'}, {'id': 5, 'name': 'Emma'}, {'id': 6, 'name': 'Frank'}]\n",
      "Topic: p2, Group_id: test1, Partition: 0, Offset: 3, Key: None, Value: [{'id': 4, 'name': 'David'}, {'id': 5, 'name': 'Emma'}, {'id': 6, 'name': 'Frank'}]\n",
      "Topic: p2, Group_id: test1, Partition: 0, Offset: 4, Key: None, Value: [{'id': 4, 'name': 'David'}, {'id': 5, 'name': 'Emma'}, {'id': 6, 'name': 'Frank'}]\n",
      "Topic: p2, Group_id: test1, Partition: 0, Offset: 5, Key: None, Value: [{'id': 4, 'name': 'David'}, {'id': 5, 'name': 'Emma'}, {'id': 6, 'name': 'Frank'}]\n",
      "Topic: p2, Group_id: test1, Partition: 0, Offset: 6, Key: None, Value: [{'id': 4, 'name': 'David'}, {'id': 5, 'name': 'Emma'}, {'id': 6, 'name': 'Frank'}]\n",
      "Topic: p2, Group_id: test1, Partition: 0, Offset: 7, Key: None, Value: [{'id': 4, 'name': 'David'}, {'id': 5, 'name': 'Emma'}, {'id': 6, 'name': 'Frank'}]\n",
      "Topic: p2, Group_id: test1, Partition: 0, Offset: 8, Key: None, Value: [{'id': 4, 'name': 'David'}, {'id': 5, 'name': 'Emma'}, {'id': 6, 'name': 'Frank'}]\n",
      "Topic: p2, Group_id: test1, Partition: 0, Offset: 9, Key: None, Value: [{'id': 4, 'name': 'David'}, {'id': 5, 'name': 'Emma'}, {'id': 6, 'name': 'Frank'}]\n",
      "Topic: p2, Group_id: test1, Partition: 0, Offset: 10, Key: None, Value: [{'id': 4, 'name': 'David'}, {'id': 5, 'name': 'Emma'}, {'id': 6, 'name': 'Frank'}]\n",
      "Topic: p2, Group_id: test1, Partition: 0, Offset: 11, Key: None, Value: [{'id': 4, 'name': 'David'}, {'id': 5, 'name': 'Emma'}, {'id': 6, 'name': 'Frank'}]\n",
      "Topic: p2, Group_id: test1, Partition: 0, Offset: 12, Key: None, Value: [{'id': 4, 'name': 'David'}, {'id': 5, 'name': 'Emma'}, {'id': 6, 'name': 'Frank'}]\n",
      "Topic: p2, Group_id: test1, Partition: 0, Offset: 13, Key: None, Value: [{'id': 4, 'name': 'David'}, {'id': 5, 'name': 'Emma'}, {'id': 6, 'name': 'Frank'}]\n",
      "Topic: p2, Group_id: test1, Partition: 0, Offset: 14, Key: None, Value: [{'id': 4, 'name': 'David'}, {'id': 5, 'name': 'Emma'}, {'id': 6, 'name': 'Frank'}]\n",
      "Topic: p2, Group_id: test1, Partition: 0, Offset: 15, Key: None, Value: [{'id': 4, 'name': 'David'}, {'id': 5, 'name': 'Emma'}, {'id': 6, 'name': 'Frank'}]\n",
      "Topic: p2, Group_id: test1, Partition: 0, Offset: 16, Key: None, Value: [{'id': 4, 'name': 'David'}, {'id': 5, 'name': 'Emma'}, {'id': 6, 'name': 'Frank'}]\n",
      "Topic: p2, Group_id: test1, Partition: 0, Offset: 17, Key: None, Value: [{'id': 4, 'name': 'David'}, {'id': 5, 'name': 'Emma'}, {'id': 6, 'name': 'Frank'}]\n",
      "Topic: p2, Group_id: test1, Partition: 0, Offset: 18, Key: None, Value: [{'id': 4, 'name': 'David'}, {'id': 5, 'name': 'Emma'}, {'id': 6, 'name': 'Frank'}]\n",
      "Topic: p2, Group_id: test1, Partition: 0, Offset: 19, Key: None, Value: [{'id': 4, 'name': 'David'}, {'id': 5, 'name': 'Emma'}, {'id': 6, 'name': 'Frank'}]\n",
      "Topic: p2, Group_id: test1, Partition: 0, Offset: 20, Key: None, Value: [{'id': 4, 'name': 'David'}, {'id': 5, 'name': 'Emma'}, {'id': 6, 'name': 'Frank'}]\n",
      "Topic: p2, Group_id: test1, Partition: 0, Offset: 21, Key: None, Value: [{'id': 4, 'name': 'David'}, {'id': 5, 'name': 'Emma'}, {'id': 6, 'name': 'Frank'}]\n",
      "Topic: p2, Group_id: test1, Partition: 0, Offset: 22, Key: None, Value: [{'id': 4, 'name': 'David'}, {'id': 5, 'name': 'Emma'}, {'id': 6, 'name': 'Frank'}]\n",
      "Topic: p2, Group_id: test1, Partition: 0, Offset: 23, Key: None, Value: [{'id': 4, 'name': 'David'}, {'id': 5, 'name': 'Emma'}, {'id': 6, 'name': 'Frank'}]\n",
      "Topic: p2, Group_id: test1, Partition: 0, Offset: 24, Key: None, Value: [{'id': 4, 'name': 'David'}, {'id': 5, 'name': 'Emma'}, {'id': 6, 'name': 'Frank'}]\n",
      "Topic: p2, Group_id: test1, Partition: 0, Offset: 25, Key: None, Value: [{'id': 4, 'name': 'David'}, {'id': 5, 'name': 'Emma'}, {'id': 6, 'name': 'Frank'}]\n",
      "Topic: p2, Group_id: test1, Partition: 0, Offset: 26, Key: None, Value: [{'id': 4, 'name': 'David'}, {'id': 5, 'name': 'Emma'}, {'id': 6, 'name': 'Frank'}]\n",
      "Topic: p2, Group_id: test1, Partition: 0, Offset: 27, Key: None, Value: [{'id': 4, 'name': 'David'}, {'id': 5, 'name': 'Emma'}, {'id': 6, 'name': 'Frank'}]\n",
      "Topic: p2, Group_id: test1, Partition: 0, Offset: 28, Key: None, Value: [{'id': 4, 'name': 'David'}, {'id': 5, 'name': 'Emma'}, {'id': 6, 'name': 'Frank'}]\n",
      "Topic: p2, Group_id: test1, Partition: 0, Offset: 29, Key: None, Value: [{'id': 4, 'name': 'David'}, {'id': 5, 'name': 'Emma'}, {'id': 6, 'name': 'Frank'}]\n",
      "Topic: p2, Group_id: test1, Partition: 0, Offset: 30, Key: None, Value: [{'id': 4, 'name': 'David'}, {'id': 5, 'name': 'Emma'}, {'id': 6, 'name': 'Frank'}]\n",
      "Topic: p2, Group_id: test1, Partition: 0, Offset: 31, Key: None, Value: [{'id': 4, 'name': 'David'}, {'id': 5, 'name': 'Emma'}, {'id': 6, 'name': 'Frank'}]\n",
      "Topic: p2, Group_id: test1, Partition: 0, Offset: 32, Key: None, Value: [{'id': 4, 'name': 'David'}, {'id': 5, 'name': 'Emma'}, {'id': 6, 'name': 'Frank'}]\n",
      "Topic: p2, Group_id: test1, Partition: 0, Offset: 33, Key: None, Value: [{'id': 4, 'name': 'David'}, {'id': 5, 'name': 'Emma'}, {'id': 6, 'name': 'Frank'}]\n",
      "Topic: p2, Group_id: test1, Partition: 0, Offset: 34, Key: None, Value: [{'id': 14, 'name': 'David1'}, {'id': 15, 'name': 'Emma1'}, {'id': 16, 'name': 'Frank1'}]\n",
      "Topic: p2, Group_id: test1, Partition: 0, Offset: 35, Key: None, Value: [{'id': 14, 'name': 'David1'}, {'id': 15, 'name': 'Emma1'}, {'id': 16, 'name': 'Frank1'}]\n",
      "Topic: p2, Group_id: test1, Partition: 0, Offset: 36, Key: None, Value: [{'id': 14, 'name': 'David1'}, {'id': 15, 'name': 'Emma1'}, {'id': 16, 'name': 'Frank1'}]\n",
      "Topic: p2, Group_id: test1, Partition: 0, Offset: 37, Key: None, Value: [{'id': 14, 'name': 'David1'}, {'id': 15, 'name': 'Emma1'}, {'id': 16, 'name': 'Frank1'}]\n",
      "Topic: p2, Group_id: test1, Partition: 0, Offset: 38, Key: None, Value: [{'id': 14, 'name': 'David1'}, {'id': 15, 'name': 'Emma1'}, {'id': 16, 'name': 'Frank1'}]\n"
     ]
    },
    {
     "ename": "KeyboardInterrupt",
     "evalue": "",
     "output_type": "error",
     "traceback": [
      "\u001b[0;31m---------------------------------------------------------------------------\u001b[0m",
      "\u001b[0;31mKeyboardInterrupt\u001b[0m                         Traceback (most recent call last)",
      "Cell \u001b[0;32mIn[114], line 8\u001b[0m\n\u001b[1;32m      5\u001b[0m \u001b[38;5;66;03m#토픽 생성\u001b[39;00m\n\u001b[1;32m      6\u001b[0m \u001b[38;5;66;03m# create_topics(topics)\u001b[39;00m\n\u001b[1;32m      7\u001b[0m producer_to_topics(data, topics)\n\u001b[0;32m----> 8\u001b[0m \u001b[43mconsumer_from_topics\u001b[49m\u001b[43m(\u001b[49m\u001b[43mtopics\u001b[49m\u001b[43m)\u001b[49m\n",
      "Cell \u001b[0;32mIn[113], line 15\u001b[0m, in \u001b[0;36mconsumer_from_topics\u001b[0;34m(topics, bootstrap_servers)\u001b[0m\n\u001b[1;32m      3\u001b[0m \u001b[38;5;28;01mdef\u001b[39;00m \u001b[38;5;21mconsumer_from_topics\u001b[39m(topics, bootstrap_servers\u001b[38;5;241m=\u001b[39m\u001b[38;5;124m'\u001b[39m\u001b[38;5;124mlocalhost:9092\u001b[39m\u001b[38;5;124m'\u001b[39m):\n\u001b[1;32m      4\u001b[0m     \u001b[38;5;66;03m# 고유한 컨슈머 그룹 ID 생성\u001b[39;00m\n\u001b[1;32m      5\u001b[0m     \u001b[38;5;66;03m# group_id = f\"consumer-group-{uuid.uuid4()}\"\u001b[39;00m\n\u001b[1;32m      7\u001b[0m     consumer \u001b[38;5;241m=\u001b[39m KafkaConsumer(\n\u001b[1;32m      8\u001b[0m         \u001b[38;5;241m*\u001b[39mtopics,\n\u001b[1;32m      9\u001b[0m         bootstrap_servers\u001b[38;5;241m=\u001b[39mbootstrap_servers,\n\u001b[0;32m   (...)\u001b[0m\n\u001b[1;32m     12\u001b[0m         value_deserializer\u001b[38;5;241m=\u001b[39m\u001b[38;5;28;01mlambda\u001b[39;00m x: json\u001b[38;5;241m.\u001b[39mloads(x\u001b[38;5;241m.\u001b[39mdecode(\u001b[38;5;124m'\u001b[39m\u001b[38;5;124mutf-8\u001b[39m\u001b[38;5;124m'\u001b[39m))\n\u001b[1;32m     13\u001b[0m     )\n\u001b[0;32m---> 15\u001b[0m     \u001b[38;5;28;01mfor\u001b[39;00m message \u001b[38;5;129;01min\u001b[39;00m consumer:\n\u001b[1;32m     16\u001b[0m         \u001b[38;5;28mprint\u001b[39m(\u001b[38;5;124mf\u001b[39m\u001b[38;5;124m\"\u001b[39m\u001b[38;5;124mTopic: \u001b[39m\u001b[38;5;132;01m{\u001b[39;00mmessage\u001b[38;5;241m.\u001b[39mtopic\u001b[38;5;132;01m}\u001b[39;00m\u001b[38;5;124m, Group_id: \u001b[39m\u001b[38;5;132;01m{\u001b[39;00mgroup_id\u001b[38;5;132;01m}\u001b[39;00m\u001b[38;5;124m, Partition: \u001b[39m\u001b[38;5;132;01m{\u001b[39;00mmessage\u001b[38;5;241m.\u001b[39mpartition\u001b[38;5;132;01m}\u001b[39;00m\u001b[38;5;124m, Offset: \u001b[39m\u001b[38;5;132;01m{\u001b[39;00mmessage\u001b[38;5;241m.\u001b[39moffset\u001b[38;5;132;01m}\u001b[39;00m\u001b[38;5;124m, Key: \u001b[39m\u001b[38;5;132;01m{\u001b[39;00mmessage\u001b[38;5;241m.\u001b[39mkey\u001b[38;5;132;01m}\u001b[39;00m\u001b[38;5;124m, Value: \u001b[39m\u001b[38;5;132;01m{\u001b[39;00mmessage\u001b[38;5;241m.\u001b[39mvalue\u001b[38;5;132;01m}\u001b[39;00m\u001b[38;5;124m\"\u001b[39m)\n",
      "File \u001b[0;32m/usr/local/lib/python3.9/site-packages/kafka/consumer/group.py:1193\u001b[0m, in \u001b[0;36mKafkaConsumer.__next__\u001b[0;34m(self)\u001b[0m\n\u001b[1;32m   1191\u001b[0m     \u001b[38;5;28;01mreturn\u001b[39;00m \u001b[38;5;28mself\u001b[39m\u001b[38;5;241m.\u001b[39mnext_v1()\n\u001b[1;32m   1192\u001b[0m \u001b[38;5;28;01melse\u001b[39;00m:\n\u001b[0;32m-> 1193\u001b[0m     \u001b[38;5;28;01mreturn\u001b[39;00m \u001b[38;5;28;43mself\u001b[39;49m\u001b[38;5;241;43m.\u001b[39;49m\u001b[43mnext_v2\u001b[49m\u001b[43m(\u001b[49m\u001b[43m)\u001b[49m\n",
      "File \u001b[0;32m/usr/local/lib/python3.9/site-packages/kafka/consumer/group.py:1201\u001b[0m, in \u001b[0;36mKafkaConsumer.next_v2\u001b[0;34m(self)\u001b[0m\n\u001b[1;32m   1199\u001b[0m     \u001b[38;5;28mself\u001b[39m\u001b[38;5;241m.\u001b[39m_iterator \u001b[38;5;241m=\u001b[39m \u001b[38;5;28mself\u001b[39m\u001b[38;5;241m.\u001b[39m_message_generator_v2()\n\u001b[1;32m   1200\u001b[0m \u001b[38;5;28;01mtry\u001b[39;00m:\n\u001b[0;32m-> 1201\u001b[0m     \u001b[38;5;28;01mreturn\u001b[39;00m \u001b[38;5;28;43mnext\u001b[39;49m\u001b[43m(\u001b[49m\u001b[38;5;28;43mself\u001b[39;49m\u001b[38;5;241;43m.\u001b[39;49m\u001b[43m_iterator\u001b[49m\u001b[43m)\u001b[49m\n\u001b[1;32m   1202\u001b[0m \u001b[38;5;28;01mexcept\u001b[39;00m \u001b[38;5;167;01mStopIteration\u001b[39;00m:\n\u001b[1;32m   1203\u001b[0m     \u001b[38;5;28mself\u001b[39m\u001b[38;5;241m.\u001b[39m_iterator \u001b[38;5;241m=\u001b[39m \u001b[38;5;28;01mNone\u001b[39;00m\n",
      "File \u001b[0;32m/usr/local/lib/python3.9/site-packages/kafka/consumer/group.py:1116\u001b[0m, in \u001b[0;36mKafkaConsumer._message_generator_v2\u001b[0;34m(self)\u001b[0m\n\u001b[1;32m   1114\u001b[0m \u001b[38;5;28;01mdef\u001b[39;00m \u001b[38;5;21m_message_generator_v2\u001b[39m(\u001b[38;5;28mself\u001b[39m):\n\u001b[1;32m   1115\u001b[0m     timeout_ms \u001b[38;5;241m=\u001b[39m \u001b[38;5;241m1000\u001b[39m \u001b[38;5;241m*\u001b[39m (\u001b[38;5;28mself\u001b[39m\u001b[38;5;241m.\u001b[39m_consumer_timeout \u001b[38;5;241m-\u001b[39m time\u001b[38;5;241m.\u001b[39mtime())\n\u001b[0;32m-> 1116\u001b[0m     record_map \u001b[38;5;241m=\u001b[39m \u001b[38;5;28;43mself\u001b[39;49m\u001b[38;5;241;43m.\u001b[39;49m\u001b[43mpoll\u001b[49m\u001b[43m(\u001b[49m\u001b[43mtimeout_ms\u001b[49m\u001b[38;5;241;43m=\u001b[39;49m\u001b[43mtimeout_ms\u001b[49m\u001b[43m,\u001b[49m\u001b[43m \u001b[49m\u001b[43mupdate_offsets\u001b[49m\u001b[38;5;241;43m=\u001b[39;49m\u001b[38;5;28;43;01mFalse\u001b[39;49;00m\u001b[43m)\u001b[49m\n\u001b[1;32m   1117\u001b[0m     \u001b[38;5;28;01mfor\u001b[39;00m tp, records \u001b[38;5;129;01min\u001b[39;00m six\u001b[38;5;241m.\u001b[39miteritems(record_map):\n\u001b[1;32m   1118\u001b[0m         \u001b[38;5;66;03m# Generators are stateful, and it is possible that the tp / records\u001b[39;00m\n\u001b[1;32m   1119\u001b[0m         \u001b[38;5;66;03m# here may become stale during iteration -- i.e., we seek to a\u001b[39;00m\n\u001b[1;32m   1120\u001b[0m         \u001b[38;5;66;03m# different offset, pause consumption, or lose assignment.\u001b[39;00m\n\u001b[1;32m   1121\u001b[0m         \u001b[38;5;28;01mfor\u001b[39;00m record \u001b[38;5;129;01min\u001b[39;00m records:\n\u001b[1;32m   1122\u001b[0m             \u001b[38;5;66;03m# is_fetchable(tp) should handle assignment changes and offset\u001b[39;00m\n\u001b[1;32m   1123\u001b[0m             \u001b[38;5;66;03m# resets; for all other changes (e.g., seeks) we'll rely on the\u001b[39;00m\n\u001b[1;32m   1124\u001b[0m             \u001b[38;5;66;03m# outer function destroying the existing iterator/generator\u001b[39;00m\n\u001b[1;32m   1125\u001b[0m             \u001b[38;5;66;03m# via self._iterator = None\u001b[39;00m\n",
      "File \u001b[0;32m/usr/local/lib/python3.9/site-packages/kafka/consumer/group.py:655\u001b[0m, in \u001b[0;36mKafkaConsumer.poll\u001b[0;34m(self, timeout_ms, max_records, update_offsets)\u001b[0m\n\u001b[1;32m    653\u001b[0m remaining \u001b[38;5;241m=\u001b[39m timeout_ms\n\u001b[1;32m    654\u001b[0m \u001b[38;5;28;01mwhile\u001b[39;00m \u001b[38;5;28;01mTrue\u001b[39;00m:\n\u001b[0;32m--> 655\u001b[0m     records \u001b[38;5;241m=\u001b[39m \u001b[38;5;28;43mself\u001b[39;49m\u001b[38;5;241;43m.\u001b[39;49m\u001b[43m_poll_once\u001b[49m\u001b[43m(\u001b[49m\u001b[43mremaining\u001b[49m\u001b[43m,\u001b[49m\u001b[43m \u001b[49m\u001b[43mmax_records\u001b[49m\u001b[43m,\u001b[49m\u001b[43m \u001b[49m\u001b[43mupdate_offsets\u001b[49m\u001b[38;5;241;43m=\u001b[39;49m\u001b[43mupdate_offsets\u001b[49m\u001b[43m)\u001b[49m\n\u001b[1;32m    656\u001b[0m     \u001b[38;5;28;01mif\u001b[39;00m records:\n\u001b[1;32m    657\u001b[0m         \u001b[38;5;28;01mreturn\u001b[39;00m records\n",
      "File \u001b[0;32m/usr/local/lib/python3.9/site-packages/kafka/consumer/group.py:702\u001b[0m, in \u001b[0;36mKafkaConsumer._poll_once\u001b[0;34m(self, timeout_ms, max_records, update_offsets)\u001b[0m\n\u001b[1;32m    699\u001b[0m     \u001b[38;5;28mself\u001b[39m\u001b[38;5;241m.\u001b[39m_client\u001b[38;5;241m.\u001b[39mpoll(timeout_ms\u001b[38;5;241m=\u001b[39m\u001b[38;5;241m0\u001b[39m)\n\u001b[1;32m    701\u001b[0m timeout_ms \u001b[38;5;241m=\u001b[39m \u001b[38;5;28mmin\u001b[39m(timeout_ms, \u001b[38;5;28mself\u001b[39m\u001b[38;5;241m.\u001b[39m_coordinator\u001b[38;5;241m.\u001b[39mtime_to_next_poll() \u001b[38;5;241m*\u001b[39m \u001b[38;5;241m1000\u001b[39m)\n\u001b[0;32m--> 702\u001b[0m \u001b[38;5;28;43mself\u001b[39;49m\u001b[38;5;241;43m.\u001b[39;49m\u001b[43m_client\u001b[49m\u001b[38;5;241;43m.\u001b[39;49m\u001b[43mpoll\u001b[49m\u001b[43m(\u001b[49m\u001b[43mtimeout_ms\u001b[49m\u001b[38;5;241;43m=\u001b[39;49m\u001b[43mtimeout_ms\u001b[49m\u001b[43m)\u001b[49m\n\u001b[1;32m    703\u001b[0m \u001b[38;5;66;03m# after the long poll, we should check whether the group needs to rebalance\u001b[39;00m\n\u001b[1;32m    704\u001b[0m \u001b[38;5;66;03m# prior to returning data so that the group can stabilize faster\u001b[39;00m\n\u001b[1;32m    705\u001b[0m \u001b[38;5;28;01mif\u001b[39;00m \u001b[38;5;28mself\u001b[39m\u001b[38;5;241m.\u001b[39m_coordinator\u001b[38;5;241m.\u001b[39mneed_rejoin():\n",
      "File \u001b[0;32m/usr/local/lib/python3.9/site-packages/kafka/client_async.py:602\u001b[0m, in \u001b[0;36mKafkaClient.poll\u001b[0;34m(self, timeout_ms, future)\u001b[0m\n\u001b[1;32m    599\u001b[0m             timeout \u001b[38;5;241m=\u001b[39m \u001b[38;5;28mmin\u001b[39m(timeout, \u001b[38;5;28mself\u001b[39m\u001b[38;5;241m.\u001b[39mconfig[\u001b[38;5;124m'\u001b[39m\u001b[38;5;124mretry_backoff_ms\u001b[39m\u001b[38;5;124m'\u001b[39m])\n\u001b[1;32m    600\u001b[0m         timeout \u001b[38;5;241m=\u001b[39m \u001b[38;5;28mmax\u001b[39m(\u001b[38;5;241m0\u001b[39m, timeout)  \u001b[38;5;66;03m# avoid negative timeouts\u001b[39;00m\n\u001b[0;32m--> 602\u001b[0m     \u001b[38;5;28;43mself\u001b[39;49m\u001b[38;5;241;43m.\u001b[39;49m\u001b[43m_poll\u001b[49m\u001b[43m(\u001b[49m\u001b[43mtimeout\u001b[49m\u001b[43m \u001b[49m\u001b[38;5;241;43m/\u001b[39;49m\u001b[43m \u001b[49m\u001b[38;5;241;43m1000\u001b[39;49m\u001b[43m)\u001b[49m\n\u001b[1;32m    604\u001b[0m \u001b[38;5;66;03m# called without the lock to avoid deadlock potential\u001b[39;00m\n\u001b[1;32m    605\u001b[0m \u001b[38;5;66;03m# if handlers need to acquire locks\u001b[39;00m\n\u001b[1;32m    606\u001b[0m responses\u001b[38;5;241m.\u001b[39mextend(\u001b[38;5;28mself\u001b[39m\u001b[38;5;241m.\u001b[39m_fire_pending_completed_requests())\n",
      "File \u001b[0;32m/usr/local/lib/python3.9/site-packages/kafka/client_async.py:634\u001b[0m, in \u001b[0;36mKafkaClient._poll\u001b[0;34m(self, timeout)\u001b[0m\n\u001b[1;32m    631\u001b[0m \u001b[38;5;28mself\u001b[39m\u001b[38;5;241m.\u001b[39m_register_send_sockets()\n\u001b[1;32m    633\u001b[0m start_select \u001b[38;5;241m=\u001b[39m time\u001b[38;5;241m.\u001b[39mtime()\n\u001b[0;32m--> 634\u001b[0m ready \u001b[38;5;241m=\u001b[39m \u001b[38;5;28;43mself\u001b[39;49m\u001b[38;5;241;43m.\u001b[39;49m\u001b[43m_selector\u001b[49m\u001b[38;5;241;43m.\u001b[39;49m\u001b[43mselect\u001b[49m\u001b[43m(\u001b[49m\u001b[43mtimeout\u001b[49m\u001b[43m)\u001b[49m\n\u001b[1;32m    635\u001b[0m end_select \u001b[38;5;241m=\u001b[39m time\u001b[38;5;241m.\u001b[39mtime()\n\u001b[1;32m    636\u001b[0m \u001b[38;5;28;01mif\u001b[39;00m \u001b[38;5;28mself\u001b[39m\u001b[38;5;241m.\u001b[39m_sensors:\n",
      "File \u001b[0;32m/usr/lib64/python3.9/selectors.py:469\u001b[0m, in \u001b[0;36mEpollSelector.select\u001b[0;34m(self, timeout)\u001b[0m\n\u001b[1;32m    467\u001b[0m ready \u001b[38;5;241m=\u001b[39m []\n\u001b[1;32m    468\u001b[0m \u001b[38;5;28;01mtry\u001b[39;00m:\n\u001b[0;32m--> 469\u001b[0m     fd_event_list \u001b[38;5;241m=\u001b[39m \u001b[38;5;28;43mself\u001b[39;49m\u001b[38;5;241;43m.\u001b[39;49m\u001b[43m_selector\u001b[49m\u001b[38;5;241;43m.\u001b[39;49m\u001b[43mpoll\u001b[49m\u001b[43m(\u001b[49m\u001b[43mtimeout\u001b[49m\u001b[43m,\u001b[49m\u001b[43m \u001b[49m\u001b[43mmax_ev\u001b[49m\u001b[43m)\u001b[49m\n\u001b[1;32m    470\u001b[0m \u001b[38;5;28;01mexcept\u001b[39;00m \u001b[38;5;167;01mInterruptedError\u001b[39;00m:\n\u001b[1;32m    471\u001b[0m     \u001b[38;5;28;01mreturn\u001b[39;00m ready\n",
      "\u001b[0;31mKeyboardInterrupt\u001b[0m: "
     ]
    }
   ],
   "source": [
    "file_path = 'data2.json'\n",
    "topics = ['p1','p2','p3']\n",
    "data = read_dta_from_file(file_path)\n",
    "\n",
    "#토픽 생성\n",
    "# create_topics(topics)\n",
    "producer_to_topics(data, topics)\n",
    "consumer_from_topics(topics)"
   ]
  },
  {
   "cell_type": "code",
   "execution_count": 112,
   "id": "b6a8b6e2-0e49-46d0-a75b-e1622ff672a0",
   "metadata": {},
   "outputs": [
    {
     "ename": "KeyboardInterrupt",
     "evalue": "",
     "output_type": "error",
     "traceback": [
      "\u001b[0;31m---------------------------------------------------------------------------\u001b[0m",
      "\u001b[0;31mKeyboardInterrupt\u001b[0m                         Traceback (most recent call last)",
      "Cell \u001b[0;32mIn[112], line 28\u001b[0m\n\u001b[1;32m     26\u001b[0m \u001b[38;5;66;03m# 필요하다면 스레드들이 종료될 때까지 기다립니다.\u001b[39;00m\n\u001b[1;32m     27\u001b[0m producer_thread\u001b[38;5;241m.\u001b[39mjoin()\n\u001b[0;32m---> 28\u001b[0m \u001b[43mconsumer_thread\u001b[49m\u001b[38;5;241;43m.\u001b[39;49m\u001b[43mjoin\u001b[49m\u001b[43m(\u001b[49m\u001b[43m)\u001b[49m\n",
      "File \u001b[0;32m/usr/lib64/python3.9/threading.py:1053\u001b[0m, in \u001b[0;36mThread.join\u001b[0;34m(self, timeout)\u001b[0m\n\u001b[1;32m   1050\u001b[0m     \u001b[38;5;28;01mraise\u001b[39;00m \u001b[38;5;167;01mRuntimeError\u001b[39;00m(\u001b[38;5;124m\"\u001b[39m\u001b[38;5;124mcannot join current thread\u001b[39m\u001b[38;5;124m\"\u001b[39m)\n\u001b[1;32m   1052\u001b[0m \u001b[38;5;28;01mif\u001b[39;00m timeout \u001b[38;5;129;01mis\u001b[39;00m \u001b[38;5;28;01mNone\u001b[39;00m:\n\u001b[0;32m-> 1053\u001b[0m     \u001b[38;5;28;43mself\u001b[39;49m\u001b[38;5;241;43m.\u001b[39;49m\u001b[43m_wait_for_tstate_lock\u001b[49m\u001b[43m(\u001b[49m\u001b[43m)\u001b[49m\n\u001b[1;32m   1054\u001b[0m \u001b[38;5;28;01melse\u001b[39;00m:\n\u001b[1;32m   1055\u001b[0m     \u001b[38;5;66;03m# the behavior of a negative timeout isn't documented, but\u001b[39;00m\n\u001b[1;32m   1056\u001b[0m     \u001b[38;5;66;03m# historically .join(timeout=x) for x<0 has acted as if timeout=0\u001b[39;00m\n\u001b[1;32m   1057\u001b[0m     \u001b[38;5;28mself\u001b[39m\u001b[38;5;241m.\u001b[39m_wait_for_tstate_lock(timeout\u001b[38;5;241m=\u001b[39m\u001b[38;5;28mmax\u001b[39m(timeout, \u001b[38;5;241m0\u001b[39m))\n",
      "File \u001b[0;32m/usr/lib64/python3.9/threading.py:1073\u001b[0m, in \u001b[0;36mThread._wait_for_tstate_lock\u001b[0;34m(self, block, timeout)\u001b[0m\n\u001b[1;32m   1070\u001b[0m     \u001b[38;5;28;01mreturn\u001b[39;00m\n\u001b[1;32m   1072\u001b[0m \u001b[38;5;28;01mtry\u001b[39;00m:\n\u001b[0;32m-> 1073\u001b[0m     \u001b[38;5;28;01mif\u001b[39;00m \u001b[43mlock\u001b[49m\u001b[38;5;241;43m.\u001b[39;49m\u001b[43macquire\u001b[49m\u001b[43m(\u001b[49m\u001b[43mblock\u001b[49m\u001b[43m,\u001b[49m\u001b[43m \u001b[49m\u001b[43mtimeout\u001b[49m\u001b[43m)\u001b[49m:\n\u001b[1;32m   1074\u001b[0m         lock\u001b[38;5;241m.\u001b[39mrelease()\n\u001b[1;32m   1075\u001b[0m         \u001b[38;5;28mself\u001b[39m\u001b[38;5;241m.\u001b[39m_stop()\n",
      "\u001b[0;31mKeyboardInterrupt\u001b[0m: "
     ]
    },
    {
     "name": "stdout",
     "output_type": "stream",
     "text": [
      "Topic: p1, Group_id: test1, Partition: 0, Offset: 38, Key: None, Value: [{'id': 11, 'name': 'Alice1'}, {'id': 12, 'name': 'Bob2'}, {'id': 13, 'name': 'Charlie3'}]\n",
      "Topic: p3, Group_id: test1, Partition: 0, Offset: 38, Key: None, Value: [{'id': 17, 'name': 'Grace1'}, {'id': 18, 'name': 'Henry1'}, {'id': 19, 'name': 'Ivy1'}]\n",
      "Topic: p2, Group_id: test1, Partition: 0, Offset: 38, Key: None, Value: [{'id': 14, 'name': 'David1'}, {'id': 15, 'name': 'Emma1'}, {'id': 16, 'name': 'Frank1'}]\n"
     ]
    }
   ],
   "source": [
    "import threading\n",
    "\n",
    "# 데이터와 토픽 읽기\n",
    "file_path = 'data2.json'\n",
    "topics = ['p1', 'p2', 'p3']\n",
    "data = read_dta_from_file(file_path)\n",
    "\n",
    "# 프로듀서 작업을 수행하는 함수\n",
    "def run_producer(data, topics):\n",
    "    # 여기서 토픽 생성이 필요하다면 주석을 해제하세요\n",
    "    # create_topics(topics)\n",
    "    producer_to_topics(data, topics)\n",
    "\n",
    "# 컨슈머 작업을 수행하는 함수\n",
    "def run_consumer(topics):\n",
    "    consumer_from_topics(topics)\n",
    "\n",
    "# 컨슈머 스레드 생성 및 시작\n",
    "consumer_thread = threading.Thread(target=run_consumer, args=(topics,))\n",
    "consumer_thread.start()\n",
    "\n",
    "# 프로듀서 스레드 생성 및 시작\n",
    "producer_thread = threading.Thread(target=run_producer, args=(data, topics))\n",
    "producer_thread.start()\n",
    "\n",
    "# 필요하다면 스레드들이 종료될 때까지 기다립니다.\n",
    "producer_thread.join()\n",
    "consumer_thread.join()"
   ]
  },
  {
   "cell_type": "code",
   "execution_count": null,
   "id": "33f474a6-1ce6-4f16-ab94-f9348bcf787c",
   "metadata": {},
   "outputs": [],
   "source": [
    "data"
   ]
  },
  {
   "cell_type": "code",
   "execution_count": null,
   "id": "6de727be-75a0-40c8-aeba-1a492ee6e4ad",
   "metadata": {},
   "outputs": [],
   "source": []
  }
 ],
 "metadata": {
  "jupytext": {
   "formats": "ipynb,py:percent"
  },
  "kernelspec": {
   "display_name": "Python 3 (ipykernel)",
   "language": "python",
   "name": "python3"
  },
  "language_info": {
   "codemirror_mode": {
    "name": "ipython",
    "version": 3
   },
   "file_extension": ".py",
   "mimetype": "text/x-python",
   "name": "python",
   "nbconvert_exporter": "python",
   "pygments_lexer": "ipython3",
   "version": "3.9.10"
  }
 },
 "nbformat": 4,
 "nbformat_minor": 5
}
